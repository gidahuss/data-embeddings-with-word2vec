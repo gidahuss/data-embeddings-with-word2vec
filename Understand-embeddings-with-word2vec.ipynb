{
 "cells": [
  {
   "cell_type": "markdown",
   "metadata": {},
   "source": [
    "# Understand embeddings with Word2Vec"
   ]
  },
  {
   "cell_type": "markdown",
   "metadata": {},
   "source": [
    "### Exercise objectives:\n",
    "- Convert 🔠 words to 🔢 vector representations thanks to embeddings\n",
    "- Discover the powerful Word2Vec algorithm\n",
    "\n",
    "<hr>\n",
    "\n",
    "_Embeddings_ are representations of words using vectors. These embeddings can be learned within a Neural Network. But it can take time to converge. Another option is to learn them as a first step. Then, use them directly to feed the word representations into a Recurrent Neural Network. "
   ]
  },
  {
   "cell_type": "markdown",
   "metadata": {},
   "source": [
    "▶️ Run this cell and make sure the version of 📚 [Gensim - Word2Vec](https://radimrehurek.com/gensim/auto_examples/index.html) you are using is ≥ 4.0!"
   ]
  },
  {
   "cell_type": "code",
   "execution_count": 4,
   "metadata": {},
   "outputs": [],
   "source": [
    "!pip freeze | grep gensim"
   ]
  },
  {
   "cell_type": "code",
   "execution_count": 3,
   "metadata": {},
   "outputs": [
    {
     "name": "stdout",
     "output_type": "stream",
     "text": [
      "tensorflow==2.10.0\r\n",
      "tensorflow-datasets==4.8.2\r\n",
      "tensorflow-estimator==2.10.0\r\n",
      "tensorflow-io-gcs-filesystem==0.27.0\r\n",
      "tensorflow-metadata==1.12.0\r\n"
     ]
    }
   ],
   "source": [
    "!pip freeze | grep tensorflow"
   ]
  },
  {
   "cell_type": "markdown",
   "metadata": {},
   "source": [
    "# The data"
   ]
  },
  {
   "cell_type": "markdown",
   "metadata": {},
   "source": [
    "Keras provides many datasets, among which is the IMDB dataset 🎬:\n",
    "- It is comprised of sentences that are ***movie reviews***. \n",
    "- Each of these reviews is related to a score given by the reviewer.\n",
    "\n",
    "❓ **Question** ❓ First of all, let's load the data. You don't have to understand what is going on in the function, it does not matter here.\n",
    "\n",
    "⚠️ **Warning** ⚠️ The `load_data` function has a `percentage_of_sentences` argument. Depending on your computer, there are chances that too many sentences will make your compute slow down, or even freeze - your RAM can overflow. For that reason, **you should start with 10% of the sentences** and see if your computer can handle it. Otherwise, rerun with a lower number.  \n",
    "\n",
    "⚠️ **DISCLAIMER** ⚠️ **No need to play _who has the biggest_ (RAM) !** The idea is to get to run your models quickly to prototype. Even in real life, it is recommended that you start with a subset of your data to loop and debug quickly. So increase the number only if you are into getting the best accuracy. "
   ]
  },
  {
   "cell_type": "code",
   "execution_count": 5,
   "metadata": {},
   "outputs": [
    {
     "name": "stderr",
     "output_type": "stream",
     "text": [
      "2023-01-29 12:53:34.244545: I tensorflow/core/platform/cpu_feature_guard.cc:193] This TensorFlow binary is optimized with oneAPI Deep Neural Network Library (oneDNN) to use the following CPU instructions in performance-critical operations:  AVX2 FMA\n",
      "To enable them in other operations, rebuild TensorFlow with the appropriate compiler flags.\n",
      "2023-01-29 12:53:41.495064: I tensorflow/core/platform/cpu_feature_guard.cc:193] This TensorFlow binary is optimized with oneAPI Deep Neural Network Library (oneDNN) to use the following CPU instructions in performance-critical operations:  AVX2 FMA\n",
      "To enable them in other operations, rebuild TensorFlow with the appropriate compiler flags.\n"
     ]
    }
   ],
   "source": [
    "###########################################\n",
    "### Just run this cell to load the data ###\n",
    "###########################################\n",
    "\n",
    "import tensorflow_datasets as tfds\n",
    "from tensorflow.keras.preprocessing.text import text_to_word_sequence\n",
    "\n",
    "def load_data(percentage_of_sentences=None):\n",
    "    train_data, test_data = tfds.load(name=\"imdb_reviews\", split=[\"train\", \"test\"], batch_size=-1, as_supervised=True)\n",
    "\n",
    "    train_sentences, y_train = tfds.as_numpy(train_data)\n",
    "    test_sentences, y_test = tfds.as_numpy(test_data)\n",
    "    \n",
    "    # Take only a given percentage of the entire data\n",
    "    if percentage_of_sentences is not None:\n",
    "        assert(percentage_of_sentences> 0 and percentage_of_sentences<=100)\n",
    "        \n",
    "        len_train = int(percentage_of_sentences/100*len(train_sentences))\n",
    "        train_sentences, y_train = train_sentences[:len_train], y_train[:len_train]\n",
    "  \n",
    "        len_test = int(percentage_of_sentences/100*len(test_sentences))\n",
    "        test_sentences, y_test = test_sentences[:len_test], y_test[:len_test]\n",
    "    \n",
    "    X_train = [text_to_word_sequence(_.decode(\"utf-8\")) for _ in train_sentences]\n",
    "    X_test = [text_to_word_sequence(_.decode(\"utf-8\")) for _ in test_sentences]\n",
    "    \n",
    "    return X_train, y_train, X_test, y_test\n",
    "\n",
    "X_train, y_train, X_test, y_test = load_data(percentage_of_sentences=10)"
   ]
  },
  {
   "cell_type": "markdown",
   "metadata": {},
   "source": [
    "<b><u>Embeddings in the previous challenge</u></b>:\n",
    "\n",
    "In the previous exercise, we jointly learned a representation for the words, and fed this representation to a RNN, as shown down below 👇: \n",
    "\n",
    "<img src=\"layers_embedding.png\" width=\"400px\" />\n",
    "\n",
    "However, this increases the number of parameters to learn, which slows down and increases the difficulty of convergence!"
   ]
  },
  {
   "cell_type": "markdown",
   "metadata": {},
   "source": [
    "<b><u>Embeddings in the current challenge</u></b>:\n",
    "\n",
    "For this reason, we will separate the steps of learning the word representation and feeding it into a RNN. As shown here: \n",
    "\n",
    "<img src=\"word2vec_representation.png\" width=\"400px\" />\n",
    "\n",
    "We will learn the embedding with Word2Vec.\n",
    "\n",
    "The drawback is indeed that the learned embeddings are not _specifically_ designed for our task. However, learning them independently of the task at hand (sentiment analysis) has some advantages: \n",
    "- it is very fast to do in general (with Word2Vec)\n",
    "- the representation learned by Word2Vec is still meaningful \n",
    "- the convergence of the RNN alone will be easier and faster\n",
    "\n",
    "So let's learn an embedding with Word2Vec and see how meaningful it is!"
   ]
  },
  {
   "cell_type": "markdown",
   "metadata": {},
   "source": [
    "# Embedding with Word2Vec"
   ]
  },
  {
   "cell_type": "markdown",
   "metadata": {},
   "source": [
    "Let's use Word2Vec to embed the words of our sentences. Word2Vec will be able to convert each word to a fixed-size vectorial representation.\n",
    "\n",
    "For instance, we will have:\n",
    "- 🐶 _dog_ $\\rightarrow$ [0.1, -0.3, 0.8]\n",
    "- 🐱 _cat_ $\\rightarrow$ [-1.1, 2.3, 0.7]\n",
    "- 🍏 _apple_ $\\rightarrow$ [3.1, 0.9, -4.7]\n",
    "\n",
    "Here, your embedding space is of size 3.\n",
    "\n",
    "***What is a \"good\" numerical representation of words?***\n",
    "\n",
    "- ***Words with close meanings should be geometrically close in your embedding space!***\n",
    "\n",
    "    - Look at the following example which represents a bi-dimensional embedding space.\n",
    "\n",
    "![Embedding](word_embedding.png)"
   ]
  },
  {
   "cell_type": "markdown",
   "metadata": {},
   "source": [
    "❓ **Question** ❓ Let's run Word2Vec! \n",
    "\n",
    "[📚 **Gensim**](https://radimrehurek.com/gensim/)  is a great Python package that makes the use of the Word2Vec algorithm easy to implement, fast and accurate (which is not an easy task!).\n",
    "\n",
    "1. The following code imports Word2Vec from Gensim. \n",
    "\n",
    "2. The second line learns the embedding representation of the words thanks to the sentences in `X_train`. \n",
    "3. The third line stores the words and their trained embeddings in `wv`."
   ]
  },
  {
   "cell_type": "code",
   "execution_count": 74,
   "metadata": {
    "tags": []
   },
   "outputs": [
    {
     "data": {
      "text/plain": [
       "<gensim.models.keyedvectors.KeyedVectors at 0x13d115a20>"
      ]
     },
     "execution_count": 74,
     "metadata": {},
     "output_type": "execute_result"
    }
   ],
   "source": [
    "from gensim.models import Word2Vec\n",
    "\n",
    "word2vec = Word2Vec(sentences=X_train)\n",
    "wv = word2vec.wv\n",
    "wv"
   ]
  },
  {
   "cell_type": "markdown",
   "metadata": {},
   "source": [
    "Let's look at the embedded representation of some words.\n",
    "\n",
    "You can use `wv` as a dictionary.\n",
    "For instance, `wv['dog']` will return a representation of `dog` in the embedding space."
   ]
  },
  {
   "cell_type": "markdown",
   "metadata": {},
   "source": [
    "❓ **Question** ❓ Try different words - especially, try non-existing words to see that they don't have any representation (which is perfectly normal as their representation was not learned). "
   ]
  },
  {
   "cell_type": "code",
   "execution_count": 67,
   "metadata": {
    "tags": [
     "challengify"
    ]
   },
   "outputs": [
    {
     "data": {
      "text/plain": [
       "2500"
      ]
     },
     "execution_count": 67,
     "metadata": {},
     "output_type": "execute_result"
    }
   ],
   "source": [
    "# YOUR CODE HERE\n",
    "vocab = [word in X_train]"
   ]
  },
  {
   "cell_type": "markdown",
   "metadata": {},
   "source": [
    "❓ **Question** ❓ What is the size of each word representation, and therefore, what is the size of the embedding space?"
   ]
  },
  {
   "cell_type": "code",
   "execution_count": null,
   "metadata": {
    "tags": [
     "challengify"
    ]
   },
   "outputs": [],
   "source": [
    "# YOUR CODE HERE\n",
    "len(wv['movie'])"
   ]
  },
  {
   "cell_type": "markdown",
   "metadata": {},
   "source": [
    "🧐 How do we know whether this embedding make any sense or not? \n",
    "\n",
    "💡 To investigate this question, we will check that words with a close meaning have close representations. \n",
    "\n",
    "👉 Let's use the [**`Word2Vec.wv.most_similar`**](https://radimrehurek.com/gensim/models/keyedvectors.html#gensim.models.keyedvectors.KeyedVectors.most_similar) method that, given an input word, displays the \"closest\" words in the embedding space. If the embedding is well done, then words with similar meanings will have similar representation in the embedding space."
   ]
  },
  {
   "cell_type": "markdown",
   "metadata": {},
   "source": [
    "❓ **Question** ❓ Try out the `most_similar` method on different words. \n",
    "\n",
    "🧑🏿‍🏫 The quality of the closeness will depend on the quality of your embedding, and thus, depend on the number of sentences that you have loaded and from which you create your embedding."
   ]
  },
  {
   "cell_type": "code",
   "execution_count": 17,
   "metadata": {
    "tags": [
     "challengify"
    ]
   },
   "outputs": [
    {
     "data": {
      "text/plain": [
       "[('hope', 0.849919855594635),\n",
       " ('waited', 0.8407140374183655),\n",
       " ('apologize', 0.8322039842605591),\n",
       " ('sat', 0.8212953805923462),\n",
       " ('warn', 0.8139167428016663),\n",
       " ('agree', 0.811249852180481),\n",
       " ('hear', 0.8112379312515259),\n",
       " ('realize', 0.8100866675376892),\n",
       " ('blame', 0.8063149452209473),\n",
       " ('approached', 0.8058663010597229)]"
      ]
     },
     "execution_count": 17,
     "metadata": {},
     "output_type": "execute_result"
    }
   ],
   "source": [
    "# YOUR CODE HERE\n",
    "word2vec.wv.most_similar('love', topn=10)"
   ]
  },
  {
   "cell_type": "markdown",
   "metadata": {},
   "source": [
    "📚 Similarly to `most_similar` used on words directly, we can use [**`similar_by_vector`**](https://radimrehurek.com/gensim/models/keyedvectors.html#gensim.models.keyedvectors.KeyedVectors.similar_by_vector) on vectors to do the same thing:"
   ]
  },
  {
   "cell_type": "code",
   "execution_count": 19,
   "metadata": {
    "tags": [
     "challengify"
    ]
   },
   "outputs": [
    {
     "data": {
      "text/plain": [
       "[('hope', 0.849919855594635),\n",
       " ('waited', 0.8407140374183655),\n",
       " ('apologize', 0.8322039842605591),\n",
       " ('sat', 0.8212953805923462),\n",
       " ('warn', 0.8139167428016663),\n",
       " ('agree', 0.811249852180481),\n",
       " ('hear', 0.8112379312515259),\n",
       " ('realize', 0.8100866675376892),\n",
       " ('blame', 0.8063149452209473),\n",
       " ('approached', 0.8058663010597229)]"
      ]
     },
     "execution_count": 19,
     "metadata": {},
     "output_type": "execute_result"
    }
   ],
   "source": [
    "# YOUR CODE HERE\n",
    "word2vec.wv.similar_by_vector('love', topn=10)"
   ]
  },
  {
   "cell_type": "markdown",
   "metadata": {},
   "source": [
    "# Arithmetic on words"
   ]
  },
  {
   "cell_type": "markdown",
   "metadata": {},
   "source": [
    "Now, let's perform some mathematical operations on words, i.e. on their vector representations!\n",
    "\n",
    "As any learned word is represented as a vector, you can do basic arithmetic operations, such as:\n",
    "\n",
    "$$W2V(good) - W2V(bad)$$"
   ]
  },
  {
   "cell_type": "markdown",
   "metadata": {},
   "source": [
    "❓ **Question** ❓ Do this mathematical operation and print the result"
   ]
  },
  {
   "cell_type": "code",
   "execution_count": 21,
   "metadata": {
    "tags": [
     "challengify"
    ]
   },
   "outputs": [
    {
     "data": {
      "text/plain": [
       "array([-0.0548687 , -0.16391063,  0.27563396,  0.17578173,  0.21738908,\n",
       "       -0.49101222, -0.27427107, -0.08791612, -0.10241002, -0.41360477,\n",
       "        0.3149923 ,  0.15898553,  0.03158259, -0.09170645, -0.16386047,\n",
       "        0.4124425 , -0.3205921 ,  0.17169452,  0.01224238, -0.1874175 ,\n",
       "        0.07124937,  0.24064092,  0.07506633,  0.12269285, -0.08277462,\n",
       "       -0.07454193, -0.08406493,  0.570119  , -0.15820143, -0.509335  ,\n",
       "       -0.23750997,  0.05683327,  0.3783365 ,  0.18025935, -0.20195037,\n",
       "       -0.02116132,  0.55627644, -0.2948652 , -0.2033109 ,  0.42426646,\n",
       "       -0.1277806 , -0.1296438 , -0.426069  , -0.15896875,  0.37025404,\n",
       "       -0.13138278,  0.5060948 , -0.01110977, -0.10084534,  0.02057177,\n",
       "       -0.2127176 , -0.08704644, -0.7039628 ,  0.22724438,  0.05505285,\n",
       "        0.27156672,  0.21370973,  0.08903307,  0.2973711 ,  0.32235813,\n",
       "        0.04397025,  0.31154394, -0.25040376, -0.35053664,  0.09493703,\n",
       "       -0.00122845, -0.34333816, -0.4621587 ,  0.6357064 ,  0.23358767,\n",
       "       -0.6653161 , -0.42442602,  0.32201132,  0.26363444, -0.35896838,\n",
       "       -0.10818839, -0.20021978, -0.28554463,  0.1336089 , -0.1410286 ,\n",
       "        0.28347045, -0.1270087 , -0.3329494 ,  0.24225068, -0.47820783,\n",
       "        0.5590677 , -0.25678664, -0.07982022,  0.28126898, -0.7115048 ,\n",
       "       -0.78149444, -0.05377318,  0.11186337,  0.48783258, -0.67492914,\n",
       "       -0.36041164,  0.5411153 ,  0.34693506, -0.86505055,  0.02306151],\n",
       "      dtype=float32)"
      ]
     },
     "execution_count": 21,
     "metadata": {},
     "output_type": "execute_result"
    }
   ],
   "source": [
    "# YOUR CODE HERE\n",
    "wv['good']-wv['bad']"
   ]
  },
  {
   "cell_type": "markdown",
   "metadata": {},
   "source": [
    "Now, imagine for a second that the following equality holds true:\n",
    "\n",
    "$$W2V(good) - W2V(bad) = W2V(nice) - W2V(stupid)$$\n",
    "\n",
    "which is equivalent to:\n",
    "\n",
    "$$W2V(good) - W2V(bad) + W2V(stupid) = W2V(nice)$$"
   ]
  },
  {
   "cell_type": "markdown",
   "metadata": {},
   "source": [
    "❓ **Question** ❓ Let's, just for fun (as it would be bold of us to think that this equality holds true ...), do the operation $W2V(good) - W2V(bad) + W2V(stupid)$ and store it in a `res` variable (which will be a vector of size 100 that you can print)."
   ]
  },
  {
   "cell_type": "code",
   "execution_count": 24,
   "metadata": {
    "tags": [
     "challengify"
    ]
   },
   "outputs": [
    {
     "data": {
      "text/plain": [
       "array([ 0.03097408, -0.36120874,  0.38185608, -0.03178139,  0.1801181 ,\n",
       "       -0.365134  , -0.2840519 , -0.16715825, -0.1091392 ,  0.00470978,\n",
       "       -0.04176154,  0.33065313,  0.1036317 , -0.11683711,  0.10322955,\n",
       "        0.38123262, -0.08542906, -0.04939583, -0.0160757 , -0.35868883,\n",
       "        0.18711159,  0.39145154, -0.15936959,  0.22756535, -0.10014196,\n",
       "       -0.2029861 , -0.00777328,  0.30982876, -0.08867726, -0.3600307 ,\n",
       "        0.06812003,  0.13582863,  0.29445502,  0.28359383, -0.06019589,\n",
       "        0.12379974,  0.51154274, -0.11301443, -0.07347444,  0.07465354,\n",
       "        0.01151052,  0.00783581,  0.02836624, -0.13147807,  0.3065194 ,\n",
       "       -0.00490136,  0.3523126 ,  0.00502828, -0.22323017, -0.09894389,\n",
       "       -0.02598795,  0.18711932, -0.36865678,  0.15396607,  0.27651793,\n",
       "        0.28011295,  0.13329566,  0.31769276,  0.02507246,  0.19487089,\n",
       "       -0.05156432,  0.34354046, -0.21617633, -0.20267713, -0.15033369,\n",
       "       -0.15586549, -0.20048438, -0.46844542,  0.36115792,  0.1956722 ,\n",
       "       -0.31291717, -0.3534867 ,  0.15515476,  0.21604827, -0.01737273,\n",
       "       -0.12290046, -0.07968584, -0.2871631 , -0.07081202,  0.05193466,\n",
       "        0.40235895,  0.09862587, -0.26855063,  0.2224209 , -0.29130384,\n",
       "        0.6056589 , -0.22872683,  0.15314324,  0.14688617, -0.351986  ,\n",
       "       -0.20001167, -0.07429345,  0.21762872,  0.20656091, -0.3809734 ,\n",
       "       -0.11736611,  0.29241037,  0.00086931, -0.48094893, -0.20503044],\n",
       "      dtype=float32)"
      ]
     },
     "execution_count": 24,
     "metadata": {},
     "output_type": "execute_result"
    }
   ],
   "source": [
    "# YOUR CODE HERE\n",
    "res = wv['good']-wv['bad'] + wv['stupid']\n",
    "res - wv['nice']"
   ]
  },
  {
   "cell_type": "markdown",
   "metadata": {},
   "source": [
    "We said earlier, that for any vector it is possible to see the closest vectors in the embedding space."
   ]
  },
  {
   "cell_type": "markdown",
   "metadata": {},
   "source": [
    "❓ **Question** ❓ Look at the closest vectors of `res`\n",
    "\n",
    "💡 _Hint_: `similar_by_vector`"
   ]
  },
  {
   "cell_type": "code",
   "execution_count": 29,
   "metadata": {
    "tags": [
     "challengify"
    ]
   },
   "outputs": [
    {
     "data": {
      "text/plain": [
       "[('nice', 0.8004231452941895),\n",
       " ('good', 0.7947142720222473),\n",
       " ('great', 0.7923126220703125),\n",
       " ('decent', 0.7499226927757263),\n",
       " ('also', 0.730777382850647),\n",
       " ('potential', 0.7261219620704651),\n",
       " ('given', 0.7232386469841003),\n",
       " ('such', 0.7189233303070068),\n",
       " ('written', 0.7082750797271729),\n",
       " ('surprisingly', 0.7069354057312012)]"
      ]
     },
     "execution_count": 29,
     "metadata": {},
     "output_type": "execute_result"
    }
   ],
   "source": [
    "# YOUR CODE HERE\n",
    "wv.similar_by_vector(res, topn=10)"
   ]
  },
  {
   "cell_type": "markdown",
   "metadata": {},
   "source": [
    "Incredible right! You can do arithmetic operations on words!\n",
    "\n",
    "❓ **Question** ❓ You can try on arithmetic such as \n",
    "\n",
    "$$W2V(Boy) - W2V(Girl) = W2V(Man) - W2V(Woman)$$\n",
    "\n",
    "or \n",
    "\n",
    "$$W2V(Queen) - W2V(King) = W2V(actress) - W2V(actor)$$\n",
    "\n",
    "❗ **Remark** ❗ You will probably see that the results are not perfect. But don't forget that you trained your model on a very small corpus."
   ]
  },
  {
   "cell_type": "code",
   "execution_count": null,
   "metadata": {
    "tags": [
     "challengify"
    ]
   },
   "outputs": [],
   "source": [
    "# YOUR CODE HERE"
   ]
  },
  {
   "cell_type": "markdown",
   "metadata": {},
   "source": [
    "<u><i>Some notes about Word2Vec as an internal Neural Network</i></u>:\n",
    "\n",
    "You might wonder where does this magic comes from (at quite a low price, you just ran a line of code on a very small corpus and it was trained within few minutes). The magic comes from the way Word2Vec is trained. The details are quite complex, but you can remember that Word2vec, in `word2vec = Word2Vec(sentences=X_train)`, actually trains a internal neural network (that you don't see).  \n",
    "\n",
    "In a nutshell, this internal neural network predicts a word from the surroundings words in a sentences. Hence, it splits the original sentences, then for each split it chooses some words as inputs $X$ and a word as the output $y$ which it tries to predict, using the embedding space.\n",
    "\n",
    "And as with any neural network, Word2Vec has some hyperparameters. Let's play with some of these. "
   ]
  },
  {
   "cell_type": "markdown",
   "metadata": {},
   "source": [
    "# Word2Vec hyperparameters"
   ]
  },
  {
   "cell_type": "markdown",
   "metadata": {},
   "source": [
    "❓ **Question** ❓ The first important hyperparameter is the `vector_size` argument. It corresponds to the size of the embedding space. Learn a new `word2vec_2` model, still trained on the `X_train`, but with a smaller or higher `vector_size`.\n",
    "\n",
    "Verify on some words that the embedding size is the one you chose."
   ]
  },
  {
   "cell_type": "code",
   "execution_count": 32,
   "metadata": {
    "tags": [
     "challengify"
    ]
   },
   "outputs": [],
   "source": [
    "# YOUR CODE HERE\n",
    "word2vec2 = Word2Vec(sentences=X_train, vector_size = 10)\n",
    "wv2 = word2vec2.wv"
   ]
  },
  {
   "cell_type": "markdown",
   "metadata": {},
   "source": [
    "❓ **Question** ❓ Use the **`Word2Vec.wv.key_to_index`** attribute to display the size of the learned vocabulary. Compare it to the number of different words in `X_train`."
   ]
  },
  {
   "cell_type": "code",
   "execution_count": 71,
   "metadata": {
    "tags": [
     "challengify"
    ]
   },
   "outputs": [
    {
     "name": "stdout",
     "output_type": "stream",
     "text": [
      "8006 582733\n"
     ]
    },
    {
     "data": {
      "text/plain": [
       "8006"
      ]
     },
     "execution_count": 71,
     "metadata": {},
     "output_type": "execute_result"
    }
   ],
   "source": [
    "# YOUR CODE HERE\n",
    "len(wv2)\n",
    "n = wv2.key_to_index\n",
    "vocab_size = [len(v) for v in X_train]\n",
    "print(len(n), sum(vocab_size))"
   ]
  },
  {
   "cell_type": "code",
   "execution_count": 122,
   "metadata": {},
   "outputs": [
    {
     "data": {
      "text/plain": [
       "dict_keys(['the', 'a', 'and', 'of', 'to', 'is', 'br', 'in', 'i', 'it', 'this', 'that', 'was', 'as', 'for', 'with', 'but', 'movie', 'film', 'on', 'not', 'you', 'his', 'are', 'have', 'one', 'be', 'he', 'all', 'at', 'by', 'they', 'an', 'so', 'like', 'who', 'from', 'her', 'or', 'just', 'if', 'out', 'about', \"it's\", 'has', 'what', 'some', 'there', 'good', 'more', 'when', 'very', 'no', 'up', 'she', 'my', 'time', 'even', 'which', 'would', 'really', 'only', 'had', 'story', 'me', 'see', 'can', 'their', 'were', 'well', 'than', 'much', 'get', 'do', 'great', 'been', 'we', 'first', 'bad', 'because', 'into', 'other', 'will', 'how', 'also', 'most', 'then', 'too', 'him', 'made', \"don't\", 'people', 'way', 'them', 'make', 'its', 'movies', 'could', 'any', 'films', 'think', 'watch', 'plot', 'after', 'two', 'best', 'many', 'acting', 'life', 'character', 'characters', 'never', 'seen', 'where', 'over', 'being', 'did', 'little', 'these', 'love', 'end', 'man', 'show', 'better', 'off', 'ever', 'know', 'still', 'does', 'say', 'while', 'your', 'scene', 'go', 'why', 'should', 'through', 'such', 'here', 'scenes', 'something', 'real', 'back', 'thing', 'now', \"i'm\", \"doesn't\", 'find', 'before', \"didn't\", 'though', 'makes', 'old', 'again', 'watching', 'funny', 'new', 'those', 'every', 'director', 'actors', 'years', 'going', 'nothing', 'actually', 'look', 'another', 'same', 'work', 'part', '10', 'pretty', 'want', 'quite', 'few', 'young', 'thought', 'down', 'horror', 'bit', 'own', 'cast', \"can't\", 'give', 'around', 'fact', 'lot', \"that's\", 'world', 'enough', 'things', 'point', 'series', 'both', 'may', 'done', 'long', 'got', 'seems', 'however', 'gets', 'take', 'always', 'role', 'us', 'original', 'between', 'big', 'right', 'times', 'music', 'saw', 'without', \"i've\", \"isn't\", 'family', 'far', 'whole', 'might', 'minutes', 'am', 'come', 'least', \"there's\", '2', 'action', 'script', 'must', 'tv', 'since', 'kind', 'away', 'interesting', 'almost', 'performance', 'guy', 'fun', 'rather', 'especially', 'hard', 'anything', 'last', 'actor', 'sure', 'believe', 'three', 'comedy', 'girl', \"he's\", 'ending', 'making', 'looking', 'worst', 'anyone', 'woman', 'screen', 'day', 'trying', 'maybe', 'course', 'found', 'each', 'watched', 'having', 'set', 'probably', 'although', 'yet', 'book', 'comes', 'feel', 'money', 'played', 'everything', \"wasn't\", 'night', 'true', 'goes', 'instead', 'put', 'place', 'reason', 'sense', 'dvd', 'high', 'audience', 'main', 'looks', 'later', '1', 'different', 'job', 'second', 'once', 'shows', 'during', 'american', 'else', 'together', 'worth', 'someone', 'takes', 'fan', 'wife', 'plays', 'our', 'said', 'star', 'play', 'read', 'effects', 'year', 'black', 'special', 'version', 'home', 'half', 'idea', 'boring', 'given', 'seeing', 'help', '3', 'less', 'war', 'beautiful', 'house', 'himself', 'seem', 'death', \"you're\", 'production', 'left', 'mind', 'excellent', 'top', 'john', 'simply', 'camera', 'short', 'either', 'poor', 'shot', 'hollywood', 'stupid', 'couple', 'father', 'used', 'line', 'perfect', 'dead', 'until', 'nice', \"couldn't\", 'kids', 'understand', 'try', 'enjoy', 'completely', 'classic', 'mean', 'along', 'awful', 'wrong', 'perhaps', 'start', 'rest', 'need', 'everyone', 'performances', 'truly', 'men', 'boy', \"i'd\", 'gives', 'small', 'liked', 'finally', 'budget', 'keep', 'name', 'head', 'felt', 'style', 'wonderful', 'face', 'full', '\\x96', 'mr', 'stars', 'early', 'let', 'low', 'friends', 'tell', 'drama', 'hope', 'written', 'school', 'dialogue', 'recommend', 'worse', 'case', 'terrible', 'based', 'sort', 'moments', 'run', 'next', 'playing', 'video', 'supposed', 'often', 'mother', 'getting', 'loved', 'use', 'human', 'yes', 'become', 'came', 'others', 'totally', 'absolutely', 'lines', 'certainly', 'fans', 'called', 'side', 'doing', \"they're\", 'days', 'dark', 'overall', 'example', 'entertaining', 'live', 'art', 'killer', 'definitely', 'went', 'lost', 'tries', 'beginning', 'seemed', 'friend', 'city', 'problem', 'god', 'town', 'picture', 'turn', 'against', 'care', 'wanted', 'already', 'evil', 'entire', 'remember', 'actress', 'sex', 'fine', 'close', 'title', 'women', 'particularly', 'itself', 'act', 'throughout', 'episode', 'myself', 'writing', 'history', 'under', \"won't\", 'white', 'etc', 'sound', 'cinema', \"she's\", 'unfortunately', 'anyway', 'oh', 'hand', 'direction', 'wants', 'piece', 'cannot', 'despite', 'stuff', '5', 'behind', 'daughter', 'themselves', 'children', 'lives', 'humor', 'eyes', 'lead', 'highly', 'late', 'moment', 'able', 'hour', 'person', 'child', 'becomes', 'waste', 'kid', 'kill', 'viewer', 'parts', 'favorite', 'leave', 'thinking', 'decent', 'says', 'soon', 'murder', \"you'll\", 'slow', 'guys', 'past', 'age', 'expect', 'girls', 'type', 'guess', 'voice', '4', 'obvious', 'happen', 'b', 'brilliant', 'starts', 'several', 'matter', 'feeling', 'heart', 'genre', 'final', 'michael', 'ok', 'looked', 'flick', 'except', 'directed', 'involved', 'police', 'chance', 'laugh', 'opinion', 'sometimes', 'blood', 'experience', 'strong', 'number', 'alone', 'power', 'including', 'works', 'gave', 'score', 'robert', 'attempt', 'writer', 'possible', 'annoying', 'told', 'david', 'somewhat', \"aren't\", 'known', 'cut', 'wonder', 'stop', 'enjoyed', 'episodes', \"i'll\", \"film's\", 'took', 'english', 'words', 'amazing', 'wish', 'turns', 'turned', 'happens', 'killed', 'sequel', 'hit', 'whose', 'happened', 'today', 'view', 'lady', 'horrible', 'jane', 'ago', 'simple', 'group', 'james', 'please', 'scary', 'female', 'seriously', 'coming', 'mystery', 'quality', 'save', 'relationship', 'single', 'middle', 'novel', 'roles', 's', 'hell', 'musical', 'across', \"wouldn't\", 'word', 'lack', 'level', 'serious', 'red', 'sad', 'shown', 'eye', 'crap', 'bring', 'usually', 'mostly', 'king', 'herself', 'jokes', 'car', 'body', 'running', 'york', '7', 'happy', 'hours', 'light', 'self', 'gore', 'events', 'obviously', 'british', 'basically', 'important', \"'\", 'room', 'fight', 'son', 'comic', 'documentary', 'interest', 'cool', 'extremely', 'miss', 'husband', 'started', 'local', 'none', 'hilarious', 'shots', 'stories', 'huge', 'due', 'thriller', 'predictable', 'brother', 'elements', 'taken', 'straight', 'richard', 'dull', 'add', 'oscar', 'lame', 'yourself', 'call', 'above', 'ten', 'hero', 'surprised', 'game', 'rating', 'released', 'near', 'clearly', 'sets', 'usual', \"let's\", 'talent', 'country', 'television', 'complete', 'storyline', 'lee', 'romantic', 'entertainment', 'disappointed', 'ridiculous', '9', 'apparently', 'dialog', 'fast', 'similar', 'heard', 'supporting', 'violence', 'falls', 'attention', 'nor', 'whether', 'twist', 'finds', 'editing', 'japanese', 'ones', 'beyond', 'giving', 'tale', 'die', 'minute', 'songs', 'song', \"haven't\", 'possibly', 'moving', 'figure', 'fall', 'taking', 'exactly', 'lots', 'saying', 'reality', 'peter', 'screenplay', 'jack', 'non', 'future', 'strange', 'typical', 'mention', 'cinematography', 'means', 'wait', 'stay', 'comments', 'realistic', 'sit', 'somehow', 'talk', 'message', 'indeed', 'sorry', 'animation', 'named', 'class', 'major', 'modern', 'ends', 'rock', 'imagine', 'living', 'street', 'brought', 'earth', \"who's\", 'kept', 'theme', 'atmosphere', 'third', 'bunch', 'sequence', 'nearly', 'reviews', 'check', 'hate', 'fantastic', 'opening', 'easily', 'doubt', 'christmas', 'imdb', 'expected', 'whom', 'enjoyable', 'baby', 'laughs', 'appears', 'career', 'writers', 'sounds', 'tells', 'cheap', 'nature', 'sadly', 'dream', 'air', 'easy', 're', 'effort', 'within', 'begins', 'talking', 't', 'five', 'ways', 'four', 'emotional', 'knew', 'silly', 'material', 'viewers', 'stand', 'meet', 'comment', 'knows', 'hot', 'suspense', 'points', 'parents', 'upon', 'leads', 'avoid', 'difficult', 'french', 'wasted', 'believable', 'review', 'season', 'period', 'dramatic', 'weird', 'gone', 'wrote', \"what's\", 'leading', 'order', 'release', 'using', 'directing', 'casting', 'portrayed', 'george', 'books', '8', 'hear', 'famous', 'directors', 'problems', 'working', 'feels', 'tried', 'change', 'theater', 'among', 'perfectly', 'needs', 'appear', 'begin', 'married', 'setting', 'hair', 'decided', 'clear', 'sequences', 'deal', 'follow', 'space', 'western', 'interested', 'social', 'odd', 'girlfriend', 'box', 'depth', 'poorly', \"you've\", 'return', 'particular', 'forced', 'premise', 'meant', 'worked', 'de', 'eventually', 'shame', 'otherwise', 'potential', 'meets', 'earlier', 'became', 'previous', 'needed', 'whatever', 'animals', 'stage', 'fantasy', 'sister', 'brings', 'result', 'cute', 'effect', 'bought', 'failed', 'waiting', 'showing', 'gay', 'agree', 'stewart', 'apart', 'creepy', 'mary', 'note', 'move', 'paul', 'general', 'badly', 'average', 'doctor', 'form', 'co', 'fire', 'pathetic', 'ask', \"we're\", 'beauty', 'honestly', 'hands', 'rent', 'dance', 'basic', 'filmed', 'band', 'society', 'hardly', 'frank', 'crime', 'kelly', 'feature', 'features', 'fighting', 'unless', 'fi', 'admit', 'greatest', 'sci', 'bored', 'cop', 'male', 'ben', 'cartoon', 'members', 'science', 'certain', 'romance', 'monster', 'weak', 'free', '20', 'older', 'copy', 'buy', 'expecting', 'situation', 'write', 'surprise', 'cat', 'tom', 'credits', 'joe', 'state', 'footage', 'team', 'trash', 'crazy', 'front', 'soundtrack', 'break', 'cheesy', 'consider', 'actual', 'dumb', 'sexual', '15', 'business', 'forward', 'attempts', 'deserves', 'spoilers', 'decide', 'adaptation', 'recently', 'batman', 'control', 'joke', 'zombie', 'present', 'sees', 'caught', 'following', 'viewing', 'nudity', 'catch', 'missed', 'barely', 'missing', 'rated', 'acted', 'america', 'follows', 'powerful', 'superb', 'political', 'question', 'okay', 'e', 'total', 'fake', 'ended', 'familiar', 'amusing', 'neither', '6', 'plain', 'mark', 'speak', 'disney', 'crew', 'memorable', 'filmmakers', 'towards', 'brothers', 'killing', 'fails', 'mood', 'hold', 'unbelievable', 'plenty', 'forget', 'werewolf', 'leaves', 'learn', 'portrayal', 'choice', 'presented', 'sweet', 'subject', 'reading', 'popular', 'c', 'telling', 'incredibly', 'further', 'entirely', 'purpose', 'outside', 'unique', 'pay', 'truth', 'utterly', 'compared', 'development', 'flat', 'van', 'died', 'violent', 'ultimately', 'kills', 'mentioned', 'rich', 'german', 'realize', 'personal', 'rate', 'deep', 'fit', 'fiction', 'store', 'fear', 'uses', 'trip', 'marriage', 'cold', 'stick', 'open', 'london', 'accent', 'shooting', 'office', 'fair', 'unlike', 'genius', 'super', 'don', 'f', 'company', 'suddenly', 'value', 'brain', 'tension', 'quickly', 'decides', 'bill', 'heavy', 'create', 'exciting', 'convincing', 'track', 'explain', 'secret', 'smart', 'scott', 'villain', 'various', 'pure', 'william', 'spirit', 'younger', 'tragic', 'background', 'touch', 'water', 'successful', 'mess', 'keeps', '100', 'former', \"weren't\", 'slightly', 'positive', 'party', '30', 'thanks', 'pace', 'tone', 'taste', 'superman', 'spend', 'thinks', 'surprisingly', 'bottom', 'slasher', 'notice', 'biggest', 'computer', 'magic', 'considered', 'law', 'ex', 'impressive', 'pointless', 'besides', 'la', 'complex', 'bizarre', 'makers', 'battle', 'public', 'anti', 'paris', \"'the\", 'lover', 'scenery', 'dr', 'culture', 'language', 'expectations', 'actresses', 'army', 'tired', 'project', 'questions', 'harry', 'amount', 'list', 'trouble', 'martin', 'recommended', 'island', 'revenge', 'dog', 'showed', 'large', 'success', 'mad', 'adventure', 'italian', 'boys', 'wow', 'camp', 'animated', 'plus', 'considering', 'common', 'credit', 'color', 'yeah', 'finish', 'chemistry', 'u', 'masterpiece', 'changed', 'soul', 'walk', 'reasons', 'lets', 'tough', 'channel', 'jim', 'starring', 'leaving', 'manages', 'natural', 'prison', 'filming', 'happening', 'recent', 'drawn', 'visual', 'cult', 'creative', 'hurt', 'conclusion', 'festival', 'standard', 'beat', 'laughed', 'created', 'humour', 'club', 'intelligent', 'clever', 'involving', 'won', 'stunning', \"hadn't\", 'd', 'thus', 'critics', 'runs', 'spent', 'paid', 'produced', 'meaning', 'hoping', 'hey', 'fairly', 'laughing', 'journey', 'train', 'dreams', 'fresh', 'flaws', 'sick', 'issues', 'equally', 'inside', 'pick', 'absolute', 'managed', 'cover', 'audiences', 'lighting', 'holes', 'government', 'sky', 'steve', 'moves', 'disturbing', 'boyfriend', '11', 'animal', 'producers', 'fully', 'offer', 'chinese', 'imagination', 'boss', 'six', 'solid', 'win', 'effective', 'escape', 'charles', 'fellow', 'drug', 'million', 'shop', 'cry', 'stephen', 'themes', 'smith', 'tarzan', 'nasty', 'places', 'students', 'building', 'available', 'values', 'blue', 'wild', 'suppose', 'naked', 'ability', 'sitting', 'loves', 'bruce', 'key', 'detective', 'creature', 'literally', 'puts', 'sexy', 'dancing', 'charming', 'loud', 'agent', 'door', 'reminds', 'buddy', 'outstanding', 'details', 'normal', 'glad', 'machine', 'jackie', 'christopher', 'talented', 'drive', 'charm', 'adult', 'likes', 'helps', 'stuck', 'west', 'funniest', 'thrown', 'somewhere', 'aspects', 'images', 'walking', 'personally', 'shoot', 'ugly', 'intended', 'knowing', 'dies', 'mouth', 'emotions', 'occasionally', 'pieces', 'gun', 'warning', 'alive', 'appeared', 'subtle', 'post', 'nowhere', 'generally', 'zero', 'industry', 'ideas', 'jean', 'concept', 'race', 'era', 'extreme', 'vampire', 'victims', 'whenever', 'impossible', 'queen', 'judge', 'focus', 'mysterious', 'aspect', 'folks', 'dad', 'ahead', 'chase', 'everybody', 'somebody', 'garbage', 'thank', 'detail', 'noir', 'edge', 'cgi', 'extra', 'conflict', 'tragedy', 'longer', 'century', 'innocent', 'legend', 'fell', 'step', 'filled', 'suit', 'week', 'incredible', 'affair', 'negative', 'damn', 'spoiler', 'lisa', 'remarkable', 'area', 'narrative', 'justice', 'appearance', 'force', 'element', 'attack', 'delivers', 'bother', 'sent', 'names', 'originally', 'page', 'beautifully', 'studio', 'summer', 'painful', \"you'd\", 'rochester', 'motion', \"movie's\", 'gem', 'grade', 'seven', 'remake', 'emotion', 'indian', 'mistake', 'freddy', 'sign', 'superior', 'chris', 'twists', 'date', 'worthy', 'putting', 'carry', 'added', 'zombies', 'jerry', 'sucks', 'opportunity', 'turning', 'sleep', 'driving', 'appreciate', 'months', 'lived', 'becoming', 'brief', 'filmmaker', 'speaking', 'absurd', 'image', 'master', 'cinematic', 'columbo', 'confusing', 'laughable', 'feelings', 'lacks', 'relationships', 'drugs', 'pop', 'broken', 'sight', 'slowly', 'torture', 'brian', 'lose', 'victim', 'producer', 'describe', 'mental', 'inspired', 'event', 'favourite', 'silent', 'immediately', 'situations', 'honest', 'captain', 'tears', 'pain', 'sidney', 'normally', 'corny', \"80's\", 'european', 'acts', 'intelligence', 'ms', 'road', 'student', 'woods', 'ray', 'supposedly', 'throw', 'numbers', 'bed', 'pacing', 'continue', 'physical', 'changes', 'direct', 'led', 'compare', 'deserved', 'suggest', 'picks', 'flying', 'design', 'ii', 'adults', 'understanding', 'anymore', 'rip', 'manner', 'green', 'actions', 'appropriate', 'native', 'lovers', 'falling', 'comedies', 'contains', 'terms', 'climax', 'presence', 'fights', 'respect', 'impact', 'featuring', 'gotten', 'fox', \"hasn't\", 'brown', 'answer', 'offers', 'approach', 'merely', 'awesome', 'porn', 'therefore', 'pleasure', 'martial', 'ladies', 'realism', 'impressed', 'anybody', 'apparent', 'likely', 'ready', 'picked', 'regular', 'wonderfully', 'reach', 'r', 'disappointing', 'wooden', 'count', 'identity', 'americans', 'appeal', 'pictures', 'jones', 'lovely', 'hospital', 'lucky', 'singing', 'j', 'stands', 'record', 'jason', 'angry', 'jeff', 'photography', 'morgan', 'mix', 'bank', 'roll', 'wall', 'food', 'gorgeous', 'soldier', 'unnecessary', 'singer', 'thin', 'aside', 'surely', 'mediocre', 'latter', 'plan', 'exist', 'asks', 'murders', 'g', 'included', 'cross', 'minor', 'genuine', 'keeping', 'stone', 'provide', 'standards', 'planet', 'morning', 'accident', 'willing', 'fashion', 'award', 'clothes', 'brutal', 'compelling', 'include', 'build', 'lake', 'knowledge', 'trailer', 'media', 'tend', 'castle', 'mid', 'rare', 'rubbish', 'expression', 'disappointment', 'touching', 'gene', 'nick', 'christian', 'college', 'commentary', 'soldiers', 'theory', 'forgotten', 'adam', 'anywhere', 'fat', 'sinatra', 'bar', 'forever', 'mainly', 'community', 'forgettable', \"one's\", 'al', 'below', 'vision', 'powers', 'artistic', 'news', 'teacher', \"character's\", 'sub', 'giant', 'redeeming', 'locations', 'pull', 'finished', 'segment', 'instance', 'grace', 'comedic', 'giallo', 'exception', 'constantly', 'miles', '90', 'twice', 'anime', 'content', 'proves', 'apartment', 'prince', 'difference', 'excuse', 'scientist', 'desire', 'nightmare', 'ball', 'followed', 'smile', 'bear', 'v', 'bits', 'nobody', 'states', 'ran', 'blame', 'hotel', 'ride', 'whatsoever', 'floor', 'teen', 'cliché', 'nonsense', 'jump', \"shouldn't\", 'developed', 'spot', 'wedding', 'plane', 'reaction', 'according', 'asked', 'remains', 'nicely', 'capable', 'gonna', 'introduced', 'practically', 'childhood', 'ghost', 'dated', 'pass', 'impression', 'tim', 'walter', 'land', 'wind', 'seconds', 'faith', 'mrs', 'creates', 'welcome', 'williams', 'allowed', 'terrific', 'necessary', 'spy', 'memory', 'afraid', 'twenty', 'south', '12', 'safe', 'independent', 'information', 'suffering', 'gory', \"man's\", 'meanwhile', 'cinderella', 'disaster', 'naturally', 'addition', 'held', 'criminal', 'onto', 'station', 'rented', 'met', '50', 'unknown', 'attitude', 'wondering', 'cooper', 'pulled', 'screaming', 'moral', 'intriguing', 'mike', 'horribly', 'standing', 'fail', 'lord', 'confused', 'wise', 'realized', 'began', 'players', 'plots', 'types', 'ultimate', 'ann', 'dying', 'personality', 'fascinating', 'eating', 'helped', 'overly', 'costumes', 'attacks', 'dressed', 'psychological', 'wit', 'allow', 'lou', 'destroy', 'double', 'costs', 'lucy', 'vhs', 'born', 'golden', 'collection', 'pity', 'shocking', 'provides', 'thoroughly', 'central', 'hits', 'phone', 'inner', 'unusual', 'eric', 'stunts', 'wars', 'proud', 'tony', 'satire', 'l', 'favor', 'national', 'haunting', 'passed', 'treat', 'moved', 'board', 'finding', 'opera', 'choose', 'cash', 'suspect', 'military', 'winner', 'grant', 'quick', 'share', 'cameo', 'm', 'joan', 'existence', 'hidden', 'regarding', 'holds', 'graphic', 'boat', 'cage', 'concerned', 'church', 'lynch', 'meeting', 'faces', \"director's\", 'curious', 'simon', 'religion', 'deeply', 'ship', 'naive', 'chose', 'desperate', 'driven', 'terribly', 'combination', 'heaven', 'manage', 'support', 'handsome', 'drunk', '25', 'continues', 'system', 'hated', 'loss', 'decision', 'speed', 'rob', 'explanation', 'quiet', 'soft', 'prove', 'asking', 'canadian', 'con', 'african', 'skills', \"we've\", 'wood', 'basket', 'humorous', 'tales', 'combined', 'match', 'reviewer', 'accept', 'nominated', 'jimmy', 'fred', 'arts', 'taylor', 'maria', 'cause', 'ordinary', 'grave', 'p', 'underrated', 'epic', 'stopped', 'rarely', 'eddie', 'douglas', 'artist', 'surface', 'fairy', 'unexpected', 'anger', 'contrast', 'sean', 'kate', 'awards', 'burns', 'painfully', 'winning', 'mainstream', 'magnificent', 'advice', 'davis', 'park', 'adds', 'described', 'rape', 'teenage', 'whilst', 'cartoons', 'energy', \"here's\", 'kinda', 'learns', 'develop', 'sam', 'vote', 'responsible', 'thoughts', 'alan', 'limited', 'kong', 'excited', 'o', 'bloody', 'allen', 'window', 'fate', 'youth', 'process', 'facial', 'thats', 'prom', 'johnny', 'hitchcock', 'dealing', 'convince', 'empty', 'scale', 'struggle', 'price', 'random', 'spanish', 'substance', 'anne', 'ice', 'results', 'victor', 'shock', 'circumstances', 'x', 'anthony', 'sat', 'mixed', 'dangerous', 'reviewers', 'asleep', 'insult', 'wanting', 'hence', 'required', 'wide', 'melodrama', 'fits', 'ed', 'growing', 'russian', 'murphy', 'factor', 'core', 'ill', 'challenge', 'villains', 'harris', 'cable', 'albert', 'shorts', 'logic', 'teens', 'aka', 'partner', 'chick', 'sisters', 'portray', 'finest', 'sing', 'returns', 'candy', 'paper', 'explained', 'proved', 'breath', 'sell', 'wearing', 'range', 'dan', 'engaging', 'search', 'calls', 'lacking', 'throws', 'shallow', 'tape', '40', 'walks', 'largely', 'forest', 'remembered', 'mask', 'executive', 'sheer', 'unfunny', 'sequels', 'junk', 'radio', 'frame', 'wing', 'location', 'pre', 'sitcom', 'bourne', 'program', 'discover', '70s', 'eyre', 'deliver', 'seemingly', 'false', 'discovers', 'teeth', 'gritty', 'intense', 'site', 'delivered', 'lousy', 'gang', 'obsessed', 'awkward', 'built', 'politics', 'gold', 'trilogy', 'aware', 'lonely', 'disgusting', 'length', 'properly', 'baseball', 'includes', 'flicks', 'birth', 'clark', 'alex', 'accurate', 'appreciated', 'feet', \"70's\", 'changing', 'chief', 'gags', 'bomb', 'monsters', 'loose', 'sudden', 'rachel', 'capture', 'families', 'evidence', 'howard', 'fault', 'professional', 'ancient', 'experiment', 'vehicle', 'sucked', 'costume', 'flash', 'kick', 'theatrical', 'loses', 'grow', 'vacation', 'steven', 'beach', 'crappy', 'angles', 'cell', 'draw', 'involves', 'ruined', 'memories', 'harsh', 'heads', 'perspective', 'henry', 'base', 'evening', 'village', 'surprising', 'eight', 'stereotypes', 'member', 'wealthy', 'fame', 'rental', 'horse', 'river', 'cops', 'flesh', 'listen', 'scared', 'constant', 'winter', 'serial', 'soap', 'neil', 'target', 'mouse', 'hill', 'qualities', 'liners', 'luck', 'jessica', 'interpretation', 'likable', 'ford', 'steal', 'lies', 'fallen', 'captured', 'watchable', 'jr', 'laughter', 'handled', 'blind', 'jennifer', \"he'd\", 'field', 'pretentious', 'drag', 'conspiracy', 'hopefully', 'surprises', 'unable', 'suspenseful', 'drew', 'reminded', 'california', 'japan', 'versions', 'halfway', 'hong', 'heroine', 'arthur', 'irritating', 'technical', 'friendship', 'caused', 'protect', 'bringing', 'facts', 'recall', '17', 'exact', 'england', 'forgot', 'dubbed', 'concert', 'strength', 'religious', 'blah', 'lewis', 'comparison', 'alien', 'jackson', 'santa', 'claim', 'stylish', 'bat', 'center', 'individual', 'officer', 'section', 'directly', 'serves', 'bright', 'painting', 'titanic', 'w', 'player', 'ass', 'separate', 'sheriff', 'exploitation', 'veteran', 'productions', 'research', 'dirty', 'seat', 'legendary', 'convinced', 'dear', 'russell', 'games', 'lesson', 'shadow', 'cutting', 'discovered', 'insane', 'scream', 'higher', 'blonde', 'sports', 'deadly', 'stayed', 'historical', 'abandoned', 'sake', 'loving', 'idiot', 'embarrassing', 'exceptional', 'execution', 'smoking', 'witty', 'billy', 'genuinely', 'prime', '0', 'opens', 'southern', 'relief', 'crowd', 'truck', 'market', 'author', 'skin', 'artists', 'dimensional', 'essentially', 'represents', 'forth', 'test', 'trust', 'revealed', 'hired', 'reveals', 'parker', 'terror', \"they've\", 'hearted', 'worthwhile', 'sharp', 'ground', 'semi', 'susan', 'virtually', 'dennis', 'foster', '13', 'rough', 'print', 'international', 'travel', 'deserve', 'attached', 'desert', 'decades', 'voices', 'depicted', 'satisfying', 'spoof', 'talents', 'afterwards', 'offensive', 'indie', 'mom', 'humanity', 'weeks', '000', 'speaks', 'suffer', 'owner', 'theatre', 'breaks', 'sea', 'mexico', 'deals', 'pilot', 'visuals', 'private', 'everywhere', 'ignore', 'anderson', 'pile', 'hundred', 'joy', 'assume', 'universe', 'bigger', 'enjoying', 'stays', 'deaths', 'slave', 'theaters', 'believed', 'roger', 'multiple', 'dollars', 'lower', 'blow', 'edward', 'westerns', 'hoffman', 'robin', 'redemption', 'roy', 'portrays', 'dancer', 'technically', 'chosen', 'novels', 'clean', 'regret', 'convey', 'corner', 'talks', '14', \"father's\", 'depressing', 'paulie', 'granted', 'helen', 'lesser', 'occasional', 'murdered', 'storytelling', 'drinking', 'colonel', 'related', 'ring', 'andy', 'mine', 'accents', 'kiss', 'code', 'marie', 'desperately', 'clichés', 'flashbacks', 'chan', 'bears', 'fictional', 'description', 'saved', 'mayor', 'debut', 'hip', 'category', 'throwing', 'escapes', 'trapped', 'princess', 'mole', 'internet', 'handle', 'dalton', 'starting', 'twisted', 'tiny', 'frankly', 'propaganda', 'ages', 'remind', 'excitement', 'critical', 'pregnant', 'hitler', 'academy', \"would've\", 'relate', 'determined', 'suck', 'saving', 'concerns', 'individuals', 'latest', 'fbi', 'believes', 'heroes', 'sword', 'formula', 'prior', 'teenagers', 'connection', 'streisand', 'sympathy', 'gothic', 'realizes', 'parody', 'choices', 'aired', 'abuse', 'handed', 'washington', 'notch', 'missile', 'efforts', 'boll', '\\x85', 'aztec', 'study', 'aged', 'behavior', 'current', 'highlight', 'training', 'scare', 'daughters', 'gas', 'threatening', 'fitting', 'suffered', 'psycho', 'committed', 'ludicrous', 'eat', 'previously', 'milk', 'funeral', 'skip', 'halloween', 'blown', 'warn', 'mob', 'dreadful', 'inept', 'sinister', 'chilling', 'performing', 'murderer', 'patrick', 'spin', 'cares', 'caine', 'spectacular', 'wilson', 'sandler', 'breasts', 'issue', 'learned', 'toward', 'hunt', 'alright', 'racist', 'path', 'baker', 'subtitles', 'controversial', 'summary', 'paced', 'witch', 'references', 'mann', 'downright', 'clips', 'task', 'tedious', 'screening', 'reporter', 'eugene', 'balance', 'vast', 'designed', 'commercial', 'thankfully', 'size', 'whoever', 'shakespeare', 'pacino', 'france', 'generation', 'united', 'inspector', 'regard', 'honor', 'creating', 'bridge', 'mountain', 'lazy', 'delightful', 'spends', 'remain', 'rule', 'grand', 'express', 'brave', 'funnier', 'till', 'rise', 'h', 'plans', 'bible', 'par', 'thrilling', 'rolling', 'skill', 'philip', 'month', 'rose', 'dress', 'fly', 'makeup', 'network', 'status', 'incident', 'mst3k', 'repeat', 'visit', 'mature', 'anna', 'closing', \"children's\", 'messages', \"1950's\", 'fare', 'lion', 'com', 'charlie', 'shelley', 'dude', 'frightening', 'ned', 'dubbing', 'renting', 'adventures', 'diamond', 'kissing', 'punch', 'spike', 'bride', 'opposite', 'warm', 'cuts', 'flight', 'spite', 'send', 'haunted', 'performed', 'dominick', 'edited', 'angel', 'hide', 'paint', 'sounded', 'uninteresting', 'round', 'basement', 'foot', 'journalist', 'germany', 'grew', 'split', 'technique', 'tree', 'hole', 'worlds', 'humans', 'routine', 'inspiration', 'ranks', 'movement', 'bettie', 'ethan', 'outer', 'pair', 'initial', 'expressions', 'fill', 'ironic', 'device', 'thomas', 'contemporary', 'majority', 'cameos', 'numerous', 'passion', 'amateur', 'opened', 'sympathetic', '2002', 'confusion', 'wears', 'ruin', 'hopes', 'segments', 'hoped', 'position', 'buying', '16', 'extent', 'mate', 'faithful', 'crying', 'charge', 'embarrassed', 'campy', 'guns', 'barbara', 'witness', 'devil', 'killings', 'discuss', 'leslie', 'prefer', 'investigation', 'relatively', 'figures', 'kingdom', 'wake', 'closer', 'shines', 'ian', 'produce', 'drags', 'nowadays', 'viewed', 'holding', 'dawn', 'sir', 'admittedly', 'jungle', 'bob', 'treatment', 'suspects', 'fabulous', 'hat', 'depiction', 'cliff', 'comics', \"could've\", 'explains', 'achieved', 'remaining', 'bbc', 'ups', 'attempting', 'resemblance', 'cars', 'sunday', 'perfection', 'rain', 'shut', 'wanna', 'breaking', 'moon', 'drop', 'brady', 'alice', 'von', 'hint', 'hitting', 'rescue', 'bound', 'striking', 'dentist', 'proper', 'pulls', 'futuristic', 'focused', 'pot', 'gangster', 'chasing', 'jumping', 'margaret', 'sun', 'disbelief', 'accidentally', 'bette', 'warned', 'intensity', 'north', 'amateurish', 'gundam', 'captures', 'gary', 'rights', 'recognize', 'lesbian', 'tank', 'easier', 'strikes', 'succeed', 'drake', 'locked', '2006', 'teach', 'species', 'corpse', 'tied', 'stolen', 'priest', 'daily', 'survive', 'eyed', 'contrived', 'interviews', 'noble', \"world's\", 'creatures', 'crash', 'context', 'mistaken', 'causes', 'greater', 'sum', 'passing', 'broke', 'freedom', 'received', 'nancy', 'photographed', 'sentimental', 'tea', 'sleazy', 'suicide', 'glory', 'neat', 'glenn', 'bore', 'luckily', 'jesus', 'claims', 'favorites', 'massive', 'modesty', 'asian', 'solve', 'notorious', 'treated', 'source', 'hanging', 'thugs', 'patient', 'leader', 'views', 'discussion', 'im', 'clichéd', 'jobs', 'afternoon', 'speech', 'wreck', 'tense', 'legs', 'adding', 'sorts', 'robot', 'streets', 'destroyed', 'attempted', 'answers', 'kurt', 'supernatural', 'notable', 'yesterday', 'bag', 'heck', 'portraying', 'delight', 'bye', 'magical', 'sox', 'initially', 'underground', 'dry', 'attractive', 'unrealistic', \"60's\", 'gamera', 'surreal', 'vietnam', 'st', 'doolittle', 'battles', 'clown', 'doo', 'menacing', 'cardboard', 'mini', 'detectives', 'arms', 'aforementioned', 'gradually', 'statement', 'chair', 'gruesome', 'scares', 'appalling', 'dozens', 'correct', 'finale', 'eerie', 'irish', 'influence', 'swimming', 'mgm', 'gratuitous', 'display', 'hall', 'torn', 'lawyer', 'repeated', 'masters', 'disagree', 'burton', 'greatly', 'failure', 'glimpse', 'cost', 'wins', 'ultra', 'praise', 'horrid', 'card', 'lie', 'scientific', 'presentation', 'credible', 'basis', 'unconvincing', 'godfather', 'extras', 'forces', 'larger', 'ruth', 'scenario', 'sold', 'shape', 'clues', 'extraordinary', 'saturday', 'spoil', 'matt', 'sons', 'bollywood', 'cure', 'slapstick', 'hearing', 'ballet', 'killers', 'lugosi', 'via', 'minimal', 'clue', 'childish', 'india', '2000', 'louis', 'k', 'rushed', 'millions', 'adapted', 'lifetime', 'muppet', 'featured', 'string', 'broadway', 'tour', '3rd', 'cases', 'imagery', 'endless', 'admire', 'quirky', 'similarly', 'consists', 'security', \"we'll\", 'likewise', 'bodies', 'mission', 'pg', 'calling', 'brilliantly', 'minds', 'mindless', 'annie', 'narration', 'midnight', 'intrigued', 'experienced', 'freeman', 'sin', 'tune', 'serve', 'spooky', 'silence', 'stanley', 'stock', 'criticism', 'shy', 'grim', 'purely', 'sexually', 'dare', 'rural', 'trial', '18', 'authentic', 'utter', 'stops', 'fashioned', 'rival', 'falk', 'losing', 'degree', 'reminiscent', 'enjoyment', 'huh', 'stood', 'drives', 'fortune', 'winters', 'thirty', 'blond', 'charlotte', 'mansion', 'entertained', 'aliens', 'tap', 'matthau', 'grown', 'angels', '80s', 'oddly', 'provided', 'storm', 'proof', 'stunt', 'court', 'promise', 'colorful', 'interview', 'levels', 'expert', 'europe', 'structure', 'bet', 'settle', 'crafted', 'headed', 'bus', 'comfortable', 'reveal', 'unlikely', 'remade', 'universal', 'stooges', 'focuses', 'outrageous', 'blockbuster', 'protagonist', 'sacrifice', 'root', 'knock', 'perform', 'nazi', 'driver', 'unforgettable', 'colors', 'erotic', 'friendly', 'tracy', 'cant', 'paying', 'resolution', 'welles', 'stereotypical', 'accomplished', 'tongue', 'adorable', 'strongly', 'hbo', 'explore', 'patients', 'assistant', 'chases', 'leonard', 'palermo', 'saves', 'danny', 'stomach', 'reads', 'trite', 'wear', 'australian', 'winchester', 'cox', 'emotionally', 'birds', 'ridiculously', 'karl', 'chuck', 'cultural', 'hates', 'visually', 'ninja', 'unfortunate', 'writes', 'sasquatch', 'attorney', 'timothy', 'performers', 'ad', 'packed', 'uncle', 'mountains', 'placed', 'spring', 'allows', 'manager', 'lane', 'scientists', 'reputation', 'passes', 'pitch', 'miscast', 'uneven', 'cigarette', '2001', 'raised', 'struggles', 'traditional', 'thousands', 'entry', 'virus', 'vs', 'evident', 'attracted', 'cusack', 'promising', 'fifteen', 'dramas', 'sunrise', 'believing', 'tricks', 'sadness', 'attraction', 'foreign', 'gag', 'happiness', 'irony', 'le', 'closet', 'innocence', 'daniel', 'andrew', 'bothered', 'feat', 'commit', 'specific', 'hooked', 'desperation', 'scottish', 'pia', 'franco', 'continuity', 'fish', 'conversation', 'upper', 'physically', 'president', 'surrounded', 'crucial', 'pleased', 'east', 'mere', 'revolution', 'mildly', 'overrated', 'complaint', 'dialogs', 'nostalgic', 'hunter', 'struck', 'carrey', 'metal', 'criminals', 'hills', 'suffers', 'enters', 'moore', 'professor', 'remotely', 'der', 'seeking', 'trail', 'digital', 'parallel', 'nevertheless', 'warrior', 'ashamed', 'tradition', 'captivating', 'covered', 'photo', 'bleak', 'shocked', 'gross', 'misleading', 'classics', 'watches', 'rats', 'sings', 'mistakes', 'hudson', 'steals', 'football', 'slice', 'toy', 'needless', 'obsession', 'quote', '1970s', 'edie', 'liking', 'flawed', 'variety', 'hickock', 'dick', 'props', 'significant', \"it'll\", 'weapons', 'darkness', 'niro', 'palace', 'danger', 'thrills', 'furthermore', 'flow', 'crude', 'rings', 'gripping', 'table', 'fancy', 'albeit', 'nonetheless', 'iii', 'cynical', 'tortured', 'hire', 'uwe', 'savage', 'phantasm', 'disjointed', 'idiotic', 'kicks', 'brad', 'saga', 'ego', 'dinner', 'ellen', 'lessons', 'inspiring', 'briefly', 'notably', 'uninspired', 'remote', 'closely', 'plastic', 'belongs', 'appealing', 'maker', 'bland', 'marry', 'max', 'joseph', 'abraham', 'wwii', 'cruise', 'buddies', 'pointed', 'alert', 'ruby', 'authority', 'walked', 'madness', 'opposed', 'colour', 'necessarily', 'promote', 'regardless', 'glass', 'kinds', 'starred', 'gordon', 'arnold', 'intentions', 'letting', 'ryan', 'oil', 'snow', 'navy', 'displays', 'powell', 'humble', 'burned', 'dynamic', 'thumbs', 'turkey', 'handful', 'scooby', 'providing', 'wave', 'develops', 'jon', 'wallace', 'deeper', 'treasure', 'san', 'mass', 'walls', 'curiosity', 'disc', 'environment', 'rocky', '1983', 'endure', 'jazz', 'steps', 'hang', '60', 'miserably', 'dean', 'indians', 'altogether', 'drink', 'documentaries', 'oz', 'join', 'amazed', 'technology', 'godzilla', 'chavez', 'pool', 'unbelievably', 'coward', 'dawson', 'insight', 'priceless', 'completed', 'curtis', 'format', 'spare', 'throat', 'account', 'parsons', 'spoken', 'identify', \"90's\", 'logical', 'experiences', 'landscape', 'gorilla', 'ironically', 'beliefs', 'strangely', 'jewish', 'projects', 'acceptable', 'urge', 'countless', 'pushing', 'beowulf', 'vengeance', 'morvern', 'allowing', 'anchors', 'carol', 'refreshing', 'artsy', 'highlights', 'scrooge', 'exists', 'notes', 'careers', 'widmark', 'trade', 'blank', 'obscure', 'successfully', 'sticks', 'zizek', 'chorus', 'gain', 'cook', 'pig', 'ratings', 'babies', 'beloved', 'magazine', '99', 'corruption', 'nose', 'devoid', 'jumps', 'cabin', 'carefully', 'ingredients', 'thrill', 'elaborate', 'grandmother', 'piano', 'emily', 'service', 'curse', 'poster', 'ramones', 'doll', 'achievement', 'dozen', 'engage', 'excessive', 'reactions', 'disappoint', 'mario', 'pro', 'despair', 'destruction', 'pleasant', 'established', 'junior', 'arm', 'caring', 'devoted', 'troubled', 'returning', 'intellectual', 'dislike', 'pet', 'ourselves', 'domestic', 'shirt', 'studios', 'insurance', 'medical', 'wayne', 'superhero', 'senseless', 'extended', 'term', 'guts', 'cg', 'alfred', 'friday', 'luke', 'elizabeth', 'listening', 'amanda', 'catching', 'guest', 'replaced', 'dixon', 'improved', 'prepared', 'breed', 'guessing', 'ambitious', 'poignant', 'celluloid', 'touches', 'nation', 'tunes', 'product', 'encounter', 'disease', 'condition', 'anyways', 'quest', 'lights', 'darker', 'refuses', 'smoke', 'rush', 'spots', 'hop', 'spiritual', 'shadows', 'holiday', 'museum', 'tight', 'essential', 'noticed', 'originality', 'celebrities', 'primarily', 'atrocious', 'carpenter', 'reed', 'shake', 'choreography', 'folk', 'checking', 'adolescent', 'raw', 'donald', 'mysteries', 'figured', 'picking', 'subtlety', 'chomsky', 'cruel', 'benefit', 'clarke', 'goofy', 'coherent', 'comedian', 'instantly', 'spinal', 'broadcast', 'offered', 'competition', 'realizing', 'nazis', 'settings', 'doc', 'julia', 'trek', 'bach', 'weekend', 'airport', 'cognac', 'row', 'drops', 'hints', 'pretending', 'pat', 'ron', 'sole', 'distance', 'commercials', 'trap', 'africa', 'ken', 'fetched', 'tremendous', 'raising', 'report', 'remarkably', 'revolves', 'occasion', 'beast', 'ties', 'imaginative', 'creation', 'chaos', 'canada', 'unrelated', \"people's\", 'esther', 'chain', 'photographer', 'stunned', 'nuclear', 'elderly', 'mild', 'brendan', 'rukh', 'travesty', 'blend', 'requires', 'birthday', 'kidnapped', 'rangers', 'warner', 'leg', 'rocks', 'succeeds', 'dragon', 'timing', 'busy', 'rising', '1980', \"jane's\", 'flies', 'oliver', 'hello', 'claimed', 'unbearable', 'upset', 'reynolds', 'enjoys', 'miracle', 'occurred', 'musicals', 'shower', \"ain't\", 'dealt', 'duty', 'whereas', 'brosnan', 'goers', 'sixties', 'frequently', 'adequate', 'duration', 'martha', 'hank', 'joel', 'travels', 'stupidity', 'wannabe', 'akshay', 'skull', 'differences', 'loser', 'alike', 'classes', 'happily', \"woman's\", 'prostitute', 'salt', 'matters', 'restaurant', 'connected', 'serbian', 'model', 'button', 'scheme', 'effectively', 'aweigh', 'hugh', 'finney', 'gentle', 'contract', 'elvis', 'dressing', 'fond', 'ashraf', 'distant', 'definition', 'dire', 'offering', 'molly', 'estate', 'yard', 'honesty', 'shelf', 'tail', '20th', 'techniques', 'per', 'trivia', 'waited', '1979', 'intent', 'sarah', 'lena', 'generous', 'pulling', 'orson', 'response', 'sends', 'shall', 'titles', 'concerning', 'wicked', 'attacked', 'goodness', 'credibility', 'rules', 'denzel', 'threw', 'push', 'idiots', 'sally', 'presents', 'kirk', 'victoria', 'equal', 'tear', 'bird', 'struggling', 'executed', 'deceased', 'tie', 'wig', 'advantage', 'stuart', 'insulting', 'herman', 'attend', 'fourth', 'toilet', 'shopping', 'sensitive', 'strip', 'beetle', 'letters', 'boom', 'las', 'vegas', 'dollar', 'un', 'homeless', '2004', 'boredom', 'brazil', 'peace', 'lasted', 'immensely', 'legal', 'kenneth', 'demonstrated', 'precious', 'stole', 'serials', 'felix', 'resembles', 'ripped', 'appearances', 'raped', 'suspension', 'floating', 'davies', 'titled', 'irene', 'thrillers', 'carrying', 'screams', 'atmospheric', 'horrifying', \"'em\", 'scanners', 'possessed', 'australia', 'ya', 'crush', 'overdone', 'jealous', 'farce', '80', 'videos', \"family's\", 'annoyed', 'terrorist', 'barrel', 'farm', 'incoherent', 'karloff', 'jenna', \"he'll\", 'arrive', 'cats', 'potentially', 'loosely', 'enormous', 'stellar', 'risk', 'dolls', 'represent', 'clint', \"today's\", 'crawford', 'brooks', 'conceived', 'fu', 'dysfunctional', 'coffee', 'nights', 'wont', 'teenager', 'consequences', 'horrific', 'miami', 'drivel', 'ocean', 'graphics', 'bacall', 'enter', 'instant', 'symbolism', 'unintentional', 'guard', 'wishes', 'steady', 'absence', 'intention', 'catchy', 'panic', 'rhythm', 'span', 'hood', 'todd', 'bonanza', 'lumet', 'invasion', 'enthusiasm', 'embarrassment', 'civil', 'errors', 'competent', 'charismatic', 'beer', 'whats', 'voiced', 'mitchell', 'muslim', 'encourage', 'zone', 'vague', 'roommate', 'cries', 'covers', '3d', 'sums', 'cringe', 'cracking', 'entertain', 'suspicious', 'demented', 'achieve', 'examples', 'cowboy', 'iron', 'showcase', 'alternative', 'kevin', 'relative', 'unintentionally', 'harvey', 'stretch', 'abysmal', 'paula', 'blair', 'blues', 'arrives', 'alec', 'blake', 'clothing', 'fido', 'library', 'traveling', 'rivers', 'keaton', 'lloyd', 'pitiful', 'persona', 'pushed', 'lola', 'suggests', 'tons', 'signs', 'splendid', 'larry', 'decade', 'elm', 'quotes', 'kumar', 'slightest', 'kapoor', 'seasons', 'oscars', 'quantum', 'misses', 'text', 'pseudo', 'ease', 'obnoxious', 'altman', 'producing', 'riveting', 'flop', 'royal', 'calm', 'flawless', 'thoughtful', 'disappeared', 'vincent', 'wax', 'slap', 'dig', 'knife', 'mentally', 'dave', 'discovery', 'accepted', '1996', 'overwhelming', 'darren', 'dragged', 'balls', 'topic', 'robbery', '2nd', 'bond', 'pavarotti', 'map', 'raise', 'grief', 'creativity', 'meaningless', 'disguise', 'hunting', 'subsequent', 'orders', 'wet', 'cried', '1970', 'stress', 'dogs', 'foul', 'tara', 'greed', 'nude', 'gangsters', 'courage', 'personalities', 'irrelevant', 'understood', 'streep', 'mall', 'lock', 'survival', 'robots', 'kim', 'dating', 'depressed', 'mirror', 'lovable', 'web', 'fears', 'lacked', 'reached', 'kennedy', 'isolated', 'goal', 'shortly', 'guilty', 'jail', 'beatles', 'protagonists', 'instinct', 'bathroom', 'exposure', 'heroic', 'differently', 'scheming', 'miller', 'riding', 'roberts', 'stereotype', 'sentence', 'bone', 'hiding', 'debbie', 'seattle', 'illegal', 'headache', 'nurse', 'confess', 'occurs', 'swear', \"freddy's\", 'stinks', 'dialogues', 'heavily', 'flowers', 'explaining', 'souls', 'guilt', 'stranger', 'brand', 'prey', 'ghosts', 'mayhem', 'accompanied', 'widow', 'crisis', \"someone's\", 'dutch', '·', 'pack', 'punk', 'ape', 'shaky', 'romero', 'spoke', 'reign', 'reduced', 'hawke', '1969', 'machines', 'bang', \"anyone's\", 'alas', 'astronaut', 'detailed', 'affect', 'flock', 'bin', 'lit', 'shifts', 'backs', 'blast', 'scripted', 'helping', 'jesse', 'existent', 'cyborg', 'gut', 'foxx', 'mentioning', 'beneath', 'inappropriate', 'simpson', 'primitive', 'bait', 'snake', 'blows', 'sutherland', 'filling', 'learning', 'marlon', 'obligatory', 'spoiled', 'shine', 'brilliance', '90s', 'expertly', 'amitabh', 'lubitsch', 'advanced', 'revelation', 'seldom', 'deranged', 'elegant', 'abusive', 'reflect', 'depicting', 'edmund', 'clara', 'survived', 'argue', 'useless', '3000', 'phantom', 'aids', 'horrendous', 'complicated', 'loads', \"king's\", 'influenced', 'freak', 'meaningful', 'importantly', 'ideal', 'kung', 'suited', 'displayed', 'timeless', 'campbell', 'paltrow', 'cheadle', 'walker', 'staged', 'noise', 'damon', 'cup', 'dignity', 'swing', 'angle', 'profound', '1972', 'realm', 'specifically', 'tomorrow', 'consistently', 'virginia', 'contact', 'rank', '1971', 'treats', 'chest', 'inventive', 'controlled', 'wizard', 'mesmerizing', 'tokyo', 'popcorn', 'contained', 'homosexual', 'defeat', 'boxing', 'presumably', 'maggie', 'marvelous', 'september', 'matrix', 'jet', 'outline', 'possibility', 'marcel', 'republic', 'czech', 'movements', 'overcome', 'flashback', 'sloppy', 'pulp', 'dee', 'cameras', 'comedians', 'sophisticated', 'secretary', 'link', 'searching', 'draws', 'sides', 'breathtaking', 'reasonable', 'explosions', 'rely', 'lincoln', 'fool', 'bell', 'critic', 'bela', 'minded', 'transfer', 'activities', 'rap', 'laughably', 'anita', 'greek', 'smiling', 'entitled', 'vaguely', 'n', 'spell', 'mel', 'disabled', 'outfit', 'sirk', 'cream', 'lying', 'drawing', 'dud', 'enemy', 'chances', 'installment', 'crimes', 'behaviour', 'uncomfortable', 'dub', 'connections', \"girl's\", 'medium', 'claire', 'valuable', 'slight', 'bite', 'malone', 'imagined', 'prize', 'farrell', 'phrase', 'aid', 'nail', 'notion', 'weekly', 'emma', 'usa', 'eager', 'ginger', 'lay', 'exchange', 'insightful', 'bitter', 'deathtrap', 'conflicts', 'superbly', 'christ', 'grayson', 'associated', 'hardy', 'moody', 'stronger', 'cave', 'duo', 'interests', 'screwed', 'kane', 'renaissance', 'wrap', 'rotten', 'strike', 'sellers', 'currently', 'wayans', 'tide', 'returned', 'rex', 'incompetent', 'faults', 'nine', 'harrison', 'dorothy', 'favour', 'sleeping', 'inane', 'belief', 'rolled', 'explored', 'thousand', 'di', 'surrounding', 'italy', 'wrenching', 'nails', 'louise', 'showdown', 'engrossing', 'mixture', 'reasonably', 'tooth', 'exposed', 'landscapes', 'oldest', 'genres', 'physics', 'soviet', 'worker', 'ebay', 'rocket', 'randomly', 'health', 'gina', 'cliche', 'lush', 'owners', 'rogers', '1995', 'ignorant', 'faced', 'unfolds', 'weakness', 'audrey', 'listed', 'fix', 'judd', 'glimpses', 'revealing', 'thieves', 'sappy', 'kay', 'hurts', 'backgrounds', 'owned', 'population', 'household', 'whore', 'rid', 'politically', 'florida', 'waitress', 'smooth', 'mile', 'craig', 'uk', 'tommy', 'pen', 'troops', 'feed', 'website', 'recognition', 'circle', 'prevent', \"1980's\", '1980s', 'argument', 'soup', 'blew', 'sinks', 'hardcore', 'gadget', '24', \"they'd\", 'scores', 'thief', 'lucas', 'tormented', 'imitation', 'composed', 'samantha', 'cheating', 'occur', 'biased', 'masterfully', 'inability', 'ultimatum', 'los', 'lab', 'subplot', 'wes', 'wandering', 'advance', 'ears', 'dancers', 'boyle', 'worn', 'laid', 'redeem', 'accuracy', 'shouting', 'threat', 'hilton', 'jake', 'finishing', 'heartfelt', 'squad', 'reeve', 'abilities', 'nelson', 'switch', 'wacky', 'juvenile', 'robbins', 'loyal', 'politician', 'dances', 'affairs', 'talked', 'obsessive', 'catholic', 'splatter', 'abruptly', 'boot', 'nyc', 'tonight', 'gunbuster', 'object', 'fifties', 'expose', 'herrings', 'léo', 'stiller', 'burning', 'sensational', 'forgive', 'react', 'agreed', 'satisfy', 'cousin', 'lommel', 'paperhouse', '2003', 'sue', 'valley', 'phillips', 'hazel', 'countries', 'camcorder', 'territory', 'texas', 'cheese', 'aimed', 'hysterical', 'maintain', 'edition', 'bedroom', 'waters', 'seek', 'tiger', 'feinstone', 'aunt', 'grows', 'hanks', 'impress', 'bernsen', 'dracula', 'conservative', 'artwork', 'morals', 'hackman', 'mickey', 'ira', 'liberal', 'gotta', 'darkwolf', 'dropped', 'racial', 'awhile', '1944', 'gift', \"50's\", 'host', 'freaky', '1930s', 'introduction', 'sought', 'comical', 'shining', 'bo', 'unfold', 'escaped', 'roma', 'tasteless', 'recognized', 'cheated', 'reflection', 'methods', 'delivering', 'flashes', 'woody', 'frustrated', 'damage', 'vein', 'cattle', 'cheek', 'krueger', 'circus', 'kitchen', 'nbc', 'et', 'generic', 'belt', 'stealing', 'serving', 'joey', 'wolf', 'turd', 'parties', 'discussing', 'beverly', 'bay', 'pressed', 'sexuality', 'facing', 'helpless', 'homosexuality', 'spending', 'amongst', 'toned', 'transition', 'trancers', 'namely', 'deserted', 'absent', 'overlooked', 'lifestyle', 'wonders', 'sassy', 'prequel', 'melodramatic', 'cody', 'des', 'engaged', 'glorious', 'wholesome', 'heartbreaking', 'cecil', 'sidekick', 'authenticity', 'dinosaurs', 'smaller', '35', 'wealth', 'miserable', 'iq', 'painted', 'grey', 'versus', 'league', 'diana', 'combat', 'worry', 'considerable', 'rick', 'ensemble', 'grounds', 'garden', 'kicking', 'bullets', 'angst', 'duryea', 'thick', 'craft', 'adopted', 'purposes', 'carell', 'witnesses', 'arrogant', 'reaching', 'fx', 'convoluted', 'visions', 'ambiguous', 'psychotic', 'harold', 'philosophy', 'neo', 'bernard', 'karen', 'hollow', 'manhattan', '300', 'advertising', 'horrors', 'barbra', 'noted', 'swedish', 'endings', 'banned', 'hamilton', 'muni', 'descent', 'biblical', 'hammer', 'arranged', 'involvement', 'contestants', 'bullet', 'terrified', 'relies', 'beats', 'vice', 'typically', 'bands', '00', 'delivery', 'drunken', 'promoted', 'altered', 'summed', 'fever', 'define', 'eve', 'eastwood', '1990s', 'relevant', 'eagle', 'forty', 'conventional', 'contain', 'blaise', 'bitch', 'vicki', 'neighbors', 'continuing', 'improbable', 'nolte', 'edgy', 'lemmon', 'builds', 'workers', \"'73\", '19', 'pun', 'lindy', 'crypt', 'stream', 'heist', 'route', 'exotic', 'manic', 'relatives', 'hopper', 'voight', 'served', 'waves', 'designs', 'timon', 'pale', 'demands', 'tube', 'icon', 'connect', 'method', 'quaid', 'fist', 'skits', 'hobgoblins', 'depression', 'innovative', 'stalking', '1950s', 'multi', 'oblivious', 'verbal', 'walken', 'terry', 'pumbaa', 'dropping', 'hapless', 'contrary', 'passionate', 'directorial', 'hears', 'guaranteed', 'terrifying', 'encounters', 'gal', 'pal', 'banal', 'trials', 'tame', 'caricatures', 'reaches', 'plant', 'hush', 'mail', 'lurid', 'labor', 'vivid', 'ear', 'pleasantly', \"actor's\", 'exploitative', 'brains', 'lively', 'keith', 'wildly', 'sterling', 'esquire', 'explosion', 'damaged', 'slugs', 'accounts', 'literary', 'globe', 'harder', 'rat', 'receive', 'spielberg', 'disgust', 'haunt', 'paradise', 'previews', 'phony', 'distribution', 'plausible', 'brando', 'casts', 'homage', 'fathers', 'burn', 'concern', 'dumped', 'arguably', 'fired', 'carter', 'heat', 'premiere', 'consideration', 'mistress', 'fantasies', 'faster', 'precisely', 'alison', 'remakes', 'inconsistent', 'matched', 'audio', 'characteristic', 'depends', 'topless', 'metaphor', 'causing', 'unhappy', 'demons', \"guy's\", 'rage', 'voodoo', 'diverse', 'fortunately', 'y', 'interpretations', 'ah', 'andre', 'lara', 'winds', 'manu', 'studies', 'climactic', 'nephew', 'stevens', \"1930's\", 'wench', 'passable', 'females', 'antics', 'weight', 'phil', 'irresponsible', 'careful', 'stardom', 'strengths', 'shatner', 'purchase', 'wound', 'harmless', 'befriends', '95', 'marquis', 'function', 'ugh', 'underneath', '2007', 'downbeat', 'wore', 'quinn', 'salman', 'cameron', 'fascination', 'robinson', 'jay', 'nostalgia', 'planning', '28', 'cared', 'massacre', 'sunset', 'conviction', 'diane', 'spain', 'portuguese', 'occupation', 'psychologist', 'affects', 'hides', 'holocaust', 'laws', 'swinging', 'britain', 'wings', 'intrigue', 'baldwin', 'alexander', 'suitors', 'mol', 'houses', 'referred', 'moreover', 'bold', 'colours', 'neurotic', 'china', 'simplistic', 'disappearance', 'betty', 'vividly', 'racism', 'murray', 'breakfast', 'agency', 'todesking', 'offbeat', 'dose', 'nicole', 'mitchum', 'absorbed', \"we'd\", 'progresses', 'eternity', 'experiments', 'wasting', 'ripping', 'nora', 'centers', 'ustinov', 'smarter', 'marked', \"devil's\", 'snuff', 'claiming', 'mermaid', 'naval', 'considerably', 'hearts', 'staff', 'bates', 'musicians', 'meryl', 'confirm', 'bull', 'yawn', 'vicious', 'spiral', 'franchise', 'earn', 'aaron', 'buildings', 'sly', 'nolan', 'charisma', 'confrontation', 'mill', 'bean', 'spit', 'pamela', 'secrets', 'screenwriter', 'catherine', 'repetitive', 'retarded', 'resulted', 'healthy', 'budgets', 'fought', 'composer', 'offended', 'riot', 'chaplin', 'pointing', 'daring', 'minus', 'therapy', 'removed', 'breast', 'highest', 'representation', 'rebellious', 'staring', 'challenged', 'tends', 'frustrating', 'consistent', 'citizens', 'subplots', 'ted', 'ought', 'hepburn', 'betrayal', 'guide', 'hugo', 'bobby', 'mighty', 'quarter', 'backwards', 'signals', 'rajinikanth', 'bare', 'lowest', 'munchies', 'dedicated', 'tall', 'hunters', \"wife's\", 'ally', 'filler', 'difficulties', 'burt', 'poem', 'loaded', 'ha', 'preview', 'angeles', 'collette', 'continued', 'characterization', 'donna', 'nemesis', 'flaw', 'rendering', 'divorce', 'lengthy', 'cannon', 'earned', 'translation', 'distracting', 'answered', 'warmth', 'alvin', 'johnson', 'julian', 'disturbed', 'disgusted', 'fernando', 'discovering', 'danes', 'butt', 'cons', 'simultaneously', 'arjun', '60s', 'christians', 'masterful', 'underlying', 'passage', 'interestingly', 'awe', 'comfort', 'ruthless', 'conversations', 'scalise', 'bla', 'flair', 'pretends', 'chapter', 'spencer', 'rapist', 'abigail', 'harm', 'buried', 'newspaper', 'serbs', \"lee's\", 'accepts', 'chamber', 'teams', 'bottle', 'enigmatic', 'sunny', 'conrad', 'beaten', 'mexican', 'vampires', 'homer', 'lol', \"god's\", 'assumed', 'horses', 'willie', 'goldsworthy', 'mira', 'robertson', 'moronic', 'virgin', 'columbia', 'unpleasant', 'merit', 'outcome', 'directs', 'significance', 'hyped', 'gannon', \"'s\", 'laurel', 'importance', 'affleck', 'rebel', 'theories', 'sometime', 'melting', 'arquette', 'interaction', 'indulgent', 'elephant', 'relation', 'midget', 'kudos', 'rifle', 'brooklyn', 'monkeys', 'iraq', 'addicted', 'lands', 'mildred', '1999', 'incidents', 'portion', 'hundreds', 'fling', 'indication', 'pretend', 'avoided', 'trio', 'lois', 'claus', 'improvement', 'spider', 'reference', 'antonio', 'cary', 'boyer', 'stan', 'incomprehensible', 'toronto', 'shoots', 'performer', 'vadar', 'englund', 'shortcomings', 'newcombe', 'mars', 'promises', 'almighty', 'cue', 'checked', 'mclaglen', 'finger', 'morbid', 'stale', 'azaria', 'defend', 'literal', '1933', 'attitudes', 'visits', 'straightforward', 'tad', 'counter', 'meg', 'emerge', 'broad', 'superficial', 'conan', 'widescreen', 'update', 'wronged', 'romp', 'institution', 'predict', 'sleaze', 'lackluster', 'gable', 'cheering', 'graham', 'supporters', 'fallon', 'latin', 'barbarian', 'inferior', 'jewel', 'surroundings', 'chronicles', 'ridden', 'clash', 'stinker', 'decidedly', 'dylan', 'address', 'youtube', 'inexplicable', 'cube', 'bonus', 'echo', 'ninjas', 'beers', 'despicable', 'invested', 'delighted', 'morris', 'alter', 'bargain', 'sharma', \"they'll\", 'samurai', 'generations', 'defined', 'spirits', 'masterson', 'paramount', 'demonic', 'expensive', 'reel', 'ham', 'reader', 'shark', 'stella', 'sen', \"altman's\", 'stereotyped', 'bhandarkar', 'deserving', 'testament', 'monk', 'francisco', 'balanced', 'cushing', 'loyalty', 'models', 'anyhow', 'phenomenal', 'nana', 'region', 'sooner', 'exaggerated', 'sits', 'justify', 'emmy', 'concentration', 'puppet', 'sakura', 'kathryn', 'uncertain', 'corpses', 'everyday', 'robbers', 'reunite', \"year's\", 'desires', 'transformation', 'comeback', 'abrupt', 'reviewing', 'motives', 'frustration', 'gray', 'tolerate', 'admirer', 'smacks', 'lighten', 'meanings', 'nearby', 'pitt', 'invented', 'proceedings', 'votes', 'sickening', 'muppets', 'hadley', 'della', 'limits', 'introduces', 'wilder', 'destroys', 'matuschek', 'justified', 'continually', '64', 'focusing', 'thompson', 'seventies', 'inadvertently', 'loggia', 'incestuous', 'grabs', 'bread', 'venture', 'antonioni', \"dvd's\", 'dump', 'fruit', 'access', 'departure', 'posey', 'reflects', 'revolutionary', 'informative', 'deeds', 'weapon', 'bogart', 'yelling', 'threatens', 'historically', 'receiving', 'allusions', 'portrayals', 'kent', 'whale', 'dana', 'vehicles', 'exercise', 'respectable', 'deliberately', 'bath', 'sucker', 'happenings', 'pin', 'cooking', 'complexity', 'stated', 'hilariously', 'caution', 'respective', 'unappealing', 'portrait', 'mysteriously', 'chicks', 'backdrop', 'carrie', 'lifeless', 'hilarity', 'ross', 'dreck', 'emerges', 'updated', 'raines', 'jared', 'lips', 'airplane', 'rant', 'montana', 'nina', 'indiana', 'accomplish', 'mentions', 'punches', 'associates', 'ignored', 'rescued', 'grendel', 'rampage', 'reliable', 'ethnic', 'roots', 'chased', 'investigator', 'urban', 'dust', 'evangelion', 'dripping', 'classical', 'cannibal', '1st', 'thru', 'corrupt', 'establishment', 'pink', 'selling', 'spree', 'murderous', 'tops', 'savini', 'crashes', 'casper', 'meat', 'promptly', 'rave', 'surviving', 'staying', \"hitchcock's\", 'pursuit', 'seymour', 'frantic', 'carried', 'accusations', 'kansas', 'mixing', 'merits', 'expressed', 'unsettling', 'natives', 'constraints', 'buffs', 'uncanny', 'farmer', 'unattractive', 'choreographed', 'readers', 'bathsheba', 'korean', 'violet', 'literature', 'celebrity', '700', 'useful', 'marries', '1987', 'session', \"'cause\", 'jumped', 'pursue', \"ann's\", 'satan', 'menace', 'mannered', 'teachers', 'refer', 'contest', 'demon', 'pressure', 'canon', 'targeted', 'heading', 'schools', 'witches', 'channels', 'item', 'fuqua', 'jam', 'lone', 'ram', 'flashing', 'guests', 'stranded', 'wardrobe', 'ticket', 'publicity', 'bravo', 'guinness', 'grasp', 'financial', 'associate', 'integrity', 'palestinian', 'mostel', 'eternal', 'hannah', 'cagney', 'angela', 'unseen', 'bent', 'danish', 'verdict', 'palma', 'signed', 'require', 'zelah', 'apt', '1997', 'announced', 'wheel', 'smell', 'michelle', 'strictly', 'ireland', 'jamie', 'primary', 'imitating', 'cards', 'deliciously', 'nicolas', 'guarantee', 'experimental', 'puppets', 'greedy', 'losers', 'liner', 'bogus', 'plague', 'segal', 'jigsaw', 'sincere', 'contestant', 'ward', 'possession', \"hitler's\", 'filthy', 'album', 'walsh', 'official', 'tracks', 'reminder', 'apes', 'cillian', 'fest', 'lukas', 'nicholas', 'severely', 'hayes', 'motivations', 'misery', 'hopkins', 'counts', 'awry', 'da', 'strangers', 'shaking', 'preston', 'trained', 'trashy', 'parallels', 'pc', 'branagh', 'dope', 'penn', 'stretched', 'boston', 'musician', 'university', 'astonishing', 'enemies', 'hazing', 'corman', 'munchie', 'collins', 'psychology', 'wishing', 'precise', 'neck', 'foolish', 'philosophical', 'elsewhere', 'odds', 'schtick', 'involve', 'fingers', 'feminist', 'pounds', 'barrymore', 'gloria', 'wang', 'radical', 'hangs', 'bathtub', 'leaps', 'millionaire', \"she'll\", 'mud', 'olivier', 'jewelry', 'harlow', 'jeremy', 'educational', 'confront', 'firing', 'mobile', 'warming', 'hideous', 'supply', 'denial', 'deer', 'fighter', 'purchased', 'starters', 'motivation', 'counterparts', 'invited', 'trees', 'silver', 'touched', 'constructed', 'beth', 'excuses', 'stanwyck', 'behalf', 'similarities', 'emy', \"'60s\", 'brides', 'mothers', 'adaptations', 'triumph', 'gates', 'blatantly', 'bigfoot', 'valid', 'realise', 'li', 'setup', 'appearing', 'introduce', 'acknowledge', 'insanity', 'q', 'heights', 'eva', 'equivalent', 'filone', 'noriko', 'commitment', 'nightmares', 'someones', 'noises', 'liz', 'flag', 'possibilities', 'closed', 'rawhide', 'severed', 'stark', 'commented', 'dominic', 'exploration', 'sarne', 'wondered', 'minnelli', 'border', 'neglect', 'mirrors', 'stabbing', '1988', 'affecting', 'complaining', 'ignorance', 'pride', 'fleshed', 'commenting', 'bridges', 'resulting', 'rooms', \"rosemary's\", 'motive', 'undoubtedly', 'geek', 'candidate', 'flipping', 'coffin', 'advise', 'opportunities', 'load', 'online', 'kryptonite', 'stilted', 'enterprise', 'trailers', 'ing', 'bothering', 'bleed', 'empire', 'twelve', 'maximum', 'glamorous', 'elvira', 'suggested', 'additional', 'pause', 'register', 'um', 'roller', 'heiress', 'vera', 'bucks', 'legends', 'sunshine', 'macarthur', 'scripts', 'gunner', 'conscience', 'lust', 'cole', 'veronika', 'triangle', 'damned', 'visayan', '1932', 'warhols', 'rita', 'golf', 'pinjar', 'raises', \"cooper's\", 'neighborhood', 'corey', 'coincidentally', 'catches', 'injured', 'tiresome', 'thereafter', 'goings', 'phyllis', 'anansa', 'calamity', 'suleiman', 'spectacle', 'brit', 'spelling', 'cracker', 'eaten', 'finely', 'ny', 'concepts', 'parrot', 'ernst', 'kaufman', 'secondly', 'helena', 'bend', 'georgia', 'macmahon', 'utilized', 'alternate', \"stewart's\", 'hatred', 'newcomer', 'daniella', 'urich', 'ravishing', 'bonham', 'noam', 'sholay', 'cesar', 'marshal', 'randall', 'recorded', 'amused', 'resist', 'anton', 'dates', 'miniseries', 'ordered', 'shaggy', 'harron', 'resembling', 'muddled', 'challenges', 'dares', 'sink', 'entrance', 'herd', 'jury', 'titular', 'labyrinth', 'copies', 'masks', 'stopping', 'cabinet', 'bakshi', 'stein', 'cerebral', 'blade', 'malta', 'anguish', 'rides', 'forties', 'admiration', '¡¨', 'hoover', 'confident', 'thread', 'reunion', 'quaint', 'veronica', 'cinematographer', 'tailor', 'unfaithful', 'plotting', 'thrilled', 'yell', 'sid', 'reward', 'rear', 'gram', 'principles', 'informer', 'fawcett', 'shaw', 'height', 'del', 'christianity', 'lip', 'inhabited', 'amazingly', 'spontaneously', 'pattern', 'rosetta', 'sergio', 'boyish', 'inducing', 'tavern', 'bsg', 'march', 'attacking', '21st', '1973', 'decisions', 'scorsese', 'solely', 'kubrick', 'denis', 'crossing', '1978', 'chimps', 'assortment', 'preaching', 'uniformly', 'unlikable', 'fluid', 'brenda', 'repulsive', 'wanders', 'weaver', 'welch', 'critique', 'suits', 'combining', 'horrified', 'published', 'incapable', 'cinemas', 'tender', 'narrator', 'distinguished', 'untimely', 'vulgar', 'inch', 'static', 'sopranos', 'salvation', 'evidently', 'peaceful', 'mates', 'tribute', 'sublime', 'imaginable', 'gremlins', 'barry', 'solution', 'casual', 'slip', 'snakes', 'practice', 'selection', 'nuanced', 'jess', 'vulnerable', 'examination', 'exceptionally', 'subsequently', '1975', 'duc', 'devastating', 'citizen', 'downhill', 'stupidly', 'contribute', 'promised', 'comparing', 'sharing', 'dimension', 'communist', '1985', 'suburbs', 'fishing', 'inexplicably', 'adequately', 'understandable', 'terrorism', 'bombs', 'uniforms', 'forbidden', 'hers', 'realistically', 'screenwriters', 'grinch', 'yikes', 'cindy', 'worried', 'fart', 'programme', 'wendigo', 'steer', 'abound', 'describing', 'lyrics', 'fonda', 'speeches', 'outright', 'union', 'reiser', 'wright', 'additionally', 'furniture', 'stumbled', 'anxious', 'steel', 'hunky', 'slows', 'civilization', 'appeals', 'matthew', 'gathered', 'cartoonish', 'possess', 'murdering', 'simmons', 'frost', 'flavor', 'educated', 'poo', 'mercy', 'october', 'generated', 'miraglia', 'evelyn', 'definite', 'ensues', 'proceeds', 'intentionally', 'remembers', 'broderick', 'rowan', 'celine', 'solo', 'destroying', 'cortes', 'kidman', 'parade', 'rubber', 'lawrence', 'press', \"streisand's\", 'guessed', 'miike', 'doug', 'shirley', 'alternately', 'apartments', 'ruins', 'iphigenia', \"should've\", 'diversity', 'scope', 'correctly', 'inhabitants', 'walt', 'principal', 'hackneyed', 'sentences', 'ominous', 'exhibits', 'prisoner', 'mundane', 'distraction', 'sophie', 'freudian', 'eats', 'data', 'readily', 'emphasize', 'medicine', 'caron', 'dreary', 'succession', 'merry', 'charged', 'speechless', 'synopsis', 'internal', 'preferred', 'torch', 'amy', 'bounds', 'appropriately', 'repressed', 'lila', 'carries', 'criticisms', 'camping', 'surgeon', 'officers', 'danning', 'brink', 'grain', 'eventual', '1984', 'appalled', 'agrees', 'yellow', 'stereotyping', \"elvira's\", 'julie', 'glued', 'package', 'lighthearted', 'stiff', 'penned', 'standpoint', 'tightly', 'hype', 'dread', 'behold', 'creep', 'siege', 'earl', 'files', 'dim', 'honey', 'er', 'symbol', 'bike', 'pops', 'phase', 'criticize', 'ouch', \"must've\", 'satirical', 'unexpectedly', 'traumatic', 'ish', 'servant', 'rainer', 'luise', 'detroit', 'laura', 'snl', 'remained', 'screenplays', 'wretched', 'acclaim', 'screens', \"president's\", 'envelope', \"moore's\", 'astaire', 'arrested', 'linda', 'expense', 'deplorable', 'failing', 'nicholson', 'marketing', 'playboy', 'jonathan', 'laden', \"boy's\", 'letter', 'sixth', 'hammy', 'dorff', 'liam', 'overlong', 'braveheart', '1957', 'technicolor', 'rolls', 'beware', 'mills', 'accused', 'curly', 'sarcastic', 'indifference', 'alcoholic', 'inspire', 'adopt', 'deliverance', 'khan', 'shattering', 'schemes', 'judging', 'meantime', 'companion', 'dreyfuss', 'organized', 'woven', 'firmly', 'bug', 'slack', 'establishing', 'pirates', 'conclusions', 'lend', 'fairness', 'distinct', 'increasing', 'interviewed', 'clarkson', 'sights', 'buttgereit', 'analysis', 'stores', 'secondary', 'ambiance', 'whipped', 'infamous', 'deathstalker', 'exclusively', 'melissa', \"brother's\", 'islands', 'immature', 'jews', 'disappears', 'credited', 'censorship', '13th', 'chainsaw', 'newer', 'gloomy', 'jarring', 'taut', 'tepid', 'retired', '1953', 'bullying', 'symbolic', 'hopelessly', \"show's\", 'elevator', 'germans', 'boyfriends', 'sketch', 'sources', 'arty', 'hook', 'sadistic', 'masked', 'hilary', 'popularity', 'papers', 'nightmarish', 'guinea', 'blunt', 'closest', '1959', 'transferred', 'distinguish', 'hal', 'hartley', 'taxi', 'ritter', 'slick', 'assignment', 'veterans', 'joined', 'intestines', 'cinematographic', 'fodder', 'keller', 'preposterous', 'exploit', \"mother's\", 'belong', 'trick', \"dixon's\", 'rogue', 'billed', 'equipment', 'energetic', 'curtain', 'specially', 'invisible', 'disastrous', 'sour', 'toys', 'cal', 'zorro', 'fairbanks', \"1960's\", 'safely', 'frances', 'whining', 'daphne', 'dinosaur', 'healing', 'outing', 'kicked', 'realised', 'newly', 'kidding', 'purists', 'deny', 'barney', 'profession', 'spread', 'expedition', 'backed', 'borrowed', 'landed', 'containing', 'severe', 'factors', 'principle', 'releases', 'fatal', 'gender', 'palance', 'destined', 'bulk', 'petty', 'fuss', 'approaching', 'butler', 'willingly', 'bruno', 'caliber', 'posters', 'invites', 'hugely', 'unreal', 'disliked', 'communicate', 'crack', 'achievements', 'separated', 'obstacles', '200', 'viewings', 'helpful', 'emerged', 'jeffrey', \"friend's\", 'narrow', 'awfully', 'brutally', 'clumsy', 'casted', 'vastly', 'anytime', 'sand', 'advertised', 'behave', 'joins', 'brazilian', 'swallow', 'buff', 'sunk', 'adams', 'tackle', 'intimate', 'affection', 'linear', 'chills', \"lady's\", 'rational', 'rohmer', 'frankie', 'clay', 'robbed', 'demonstrates', 'attended', 'clip', 'relaxed', 'exquisite', 'chuckles', 'vital', 'proving', 'rises', 'billion', 'studied', 'minimum', 'companies', 'distracted', 'seeks', 'resemble', 'akin', 'unusually', 'axe', 'pit', 'recycled', 'alarm', 'fishburne', 'parent', 'gus', 'screened', 'pompous', 'ceremony', 'businessman', 'respects', 'onwards', 'needlessly', \"kid's\", 'loneliness', 'interactions', 'crown', 'subjected', 'investigate', 'emerging', 'owen', 'ingenious', 'apologize', 'traffic', 'bikini', 'turtle', 'hungry', 'zadora', 'perry', 'escaping', \"romero's\", 'authorities', 'cape', 'layered', 'strings', 'aggressive', 'lure', 'ada', 'consist', 'myra', 'nations', 'staggering', 'ralph', 'deputy', 'stern', 'explicit', 'crystal', 'kinnear', 'dresses', 'strindberg', 'lt', 'parks', 'islanders', 'controlling', \"leo's\", 'option', 'pond', 'painter', 'aging', 'darn', 'gosh', 'hats', 'conjure', 'elliott', 'industrial', 'pierce', 'psychic', 'simpler', 'anticipate', 'hamlet', 'ps', 'delicate', 'looses', 'hmmm', 'ethereal', 'uplifting', 'mutilated', \"master's\", 'activity', 'venom', 'assault', 'recommendation', 'fortunate', 'grandfather', 'behaves', 'paths', \"nobody's\", 'holy', 'popped', 'determine', 'improvised', 'submit', 'asylum', 'nuts', 'cockney', 'combines', 'slower', 'aristocratic', 'screw', 'spark', 'gear', 'villainous', 'revive', 'twin', 'winded', 'steam', 'monty', 'iowa', 'articulate', '75', 'creator', 'blinded', 'crosses', 'classy', 'followers', 'wholly', 'preferably', 'buzz', 'khouri', \"son's\", 'oblivion', 'kellerman', 'currie', 'alcohol', 'neighbours', 'polite', 'committee', 'moss', 'woo', 'connolly', 'beforehand', 'complain', 'collective', 'rejects', 'alba', 'convent', 'spaghetti', 'orphan', 'bald', 'whoopi', 'gielgud', 'represented', 'resort', 'undead', 'defending', 'magician', 'avoids', 'boman', 'reasoning', 'bogdanovich', 'hou', 'supreme', 'mortal', 'tomatoes', 'gangs', 'rome', 'alcoholism', 'tremors', 'penis', 'thrust', 'agenda', 'punished', 'brandon', 'underdeveloped', 'freeze', 'jo', 'worship', 'bothers', 'holden', 'rates', 'manual', 'confirmed', 'patekar', 'stumbles', 'centre', 'corky', 'stations', 'unsuspecting', 'bugs', 'ins', 'applaud', 'organization', 'cradle', 'greg', 'adore', 'liberty', '1934', 'scifi', 'pokes', 'shanghai', 'ingredient', 'waving', 'chicken', 'pole', 'targets', 'virtue', 'inclusion', 'vincente', 'joking', 'scored', 'lasting', 'apocalyptic', 'shameful', 'lingering', '2008', 'fanatic', 'jaw', 'anticipation', 'josie', 'imo', 'inspirational', 'dominated', 'gialli', 'supported', 'fleming', 'edges', 'blooded', 'luthor', 'lorre', \"king'\", 'fraud', 'trigger', 'presidential', 'albums', 'similarity', 'investigating', 'reckless', 'mode', 'populated', 'glaring', 'wisdom', 'hmm', 'holland', 'rewarding', 'neon', 'blacks', 'carnage', 'monkey', 'fellini', 'tagge', 'compulsive', 'electric', 'tax', 'phoenix', 'decay', 'maniac', 'stratton', 'el', '1967', '50s', 'sonia', 'sammy', 'dictator', 'timmy', 'insert', 'cousins', 'vessel', 'sorely', 'dickinson', 'downs', 'cracks', 'thunder', 'flimsy', 'throne', 'adultery', 'lists', 'alicia', 'ww2', 'disorder', 'demonstrate', 'charley', 'boggy', 'crater', 'invention', 'void', 'confidence', 'feeds', 'predictably', 'poetic', 'subjects', 'vertigo', 'novak', 'agony', 'chip', 'alexandre', 'boarding', 'eustache', 'stab', 'coup', 'hippie', 'pegg', 'toby', 'lawn', 'eighties', 'warehouse', 'necessity', 'pants', 'eponine', 'dafoe', 'cosette', 'valjean', 'dandy', 'howling', 'cathedral', 'gentlemen', 'miranda', 'exposing', 'monologue', 'depths', 'slackers', 'explosive', 'crashing', 'robber', \"ol'\", 'homicide', 'selfish', 'patiently', 'dinocroc', \"ford's\", 'bondage', 'dudley', 'kazan', 'stumble', 'doses', 'employees', 'underwhelming', 'hitchhiker', 'cloris', 'raft', 'stephanie', 'popping', 'glow', 'deadpan', 'kobayashi', 'theorists', 'miyazaki', 'delightfully', 'restored', 'ritchie', 'assumption', 'austin', 'mma', 'remembering', \"euripides'\", 'moh', 'frightened', 'speaker', 'abbott', 'aymeric', 'nineties', 'ollie', 'spitting', 'kamal', 'silas', 'visiting', 'exorcist', 'stigmata', 'iconic', \"goldsworthy's\", 'phenomenon', 'peterson', 'detract', 'satisfaction', 'wheelchair', 'sharon', 'supports', 'rehash', 'martians', 'morton', 'kidnap', 'whitman', 'ilona', 'inspires', 'duties', 'wherever', 'rhonda', 'betrayed', 'battling', 'ernest', 'dazzling', 'kralik', 'pages', 'conveys', 'bronte', 'fassbinder', 'belafonte', 'greengrass', 'exceptions', 'wilderness', 'traits', 'selected', 'square', '250', 'meek', 'vance', 'montano', 'afford', 'hungarian', 'longest', 'zoe', 'muslims', 'religions', 'jaws', 'forms', 'organic', \"other's\", 'longing', 'tearing', 'moron', 'taboo', 'peepers', 'collect', \"lila's\", 'knocks', 'apply', 'outfits', 'trademark', 'radium', 'benet', 'yells', 'switching', 'offs', 'bachchan', 'romances', 'repeatedly', \"rukh's\", 'matching', 'fiery', 'upstairs', 'surround', 'vanity', 'canceled', 'informs', 'secretly', 'circa', 'bouchet', 'gigantic', 'fluff', 'shin', 'casablanca', 'jacket', 'drain', 'gods', 'capital', 'lamm', 'sylvia', 'teaches', '90210', 'marley', 'israeli', 'error', 'mankind', 'inherent', 'ideologies', '1951', 'receives', 'addressing', 'dads', '1950', 'chooses', 'youngest', 'expressing', 'resolved', 'robbing', 'weather', 'carlyle', 'poverty', 'spaceship', 'stake', 'cheesiness', 'fog', 'likeable', 'playwright', 'definitive', '1982', 'dolemite', 'avenging', 'forgiving', 'applied', 'planned', 'dumbest', 'exit', 'ie', 'vocal', 'landmark', 'troubles', \"everybody's\", 'operate', 'unravel', 'sentiment', 'spade', 'colin', 'patience', '1963', 'examine', 'sucking', 'rudy', 'morality', 'insipid', 'yours', 'destructive', 'justin', 'command', 'bachelor', 'hopeless', 'framed', 'contacts', 'babes', 'wire', 'located', 'accessible', 'filth', 'disappear', 'berlin', 'federal', 'trace', 'anticipated', 'demanding', 'eh', 'improve', 'cunningham', 'responsibility', 'debt', 'momentum', 'duke', 'phillip', 'acclaimed', 'gaps', 'sensation', 'tracking', 'manners', 'topics', 'addiction', 'organs', 'roman', 'rios', 'dispatched', 'aspiring', 'platform', 'rambling', 'eagerly', 'ambitions', 'generate', 'roughly', 'butts', 'insist', 'pilots', 'whiny', 'socially', 'balancing', 'foundation', 'firefighters', 'clan', 'seed', 'voyage', 'grandpa', 'meatball', 'stirring', 'handles', 'knocked', 'turner', \"miike's\", 'caricature', 'layers', 'wrapped', 'depictions', 'haired', 'deed', 'render', 'hokey', 'remove', 'adrenaline', 'agents', 'implausible', 'unfair', 'elder', 'slashers', 'profile', 'vigilante', 'stalks', 'nerd', 'juice', 'raymond', 'gifts', 'wtf', 'lindsay', 'realities', 'prepare', 'nintendo', 'emilio', 'homes', 'packs', 'enthralling', 'relations', 'haig', 'cap', 'excess', '1943', 'automatically', 'degrees', 'lightning', 'pray', 'eccentric', \"david's\", 'novelty', 'paranoia', 'eastern', 'coaster', 'rounded', 'widely', 'doctors', 'mice', 'affinity', 'castro', 'conveyed', 'retire', 'abc', '70', 'stares', 'sheedy', \"characters'\", 'traps', 'dreadfully', 'meadows', 'tribulations', 'owe', 'criticized', 'crisp', 'cleverly', 'chat', 'exploding', 'addressed', 'opposition', 'trusted', 'liu', 'phones', 'psyche', 'matches', 'che', 'factory', 'couples', 'disability', 'kris', 'redundant', 'complications', 'stunningly', 'feast', 'affected', 'denying', 'resources', 'wished', 'creators', 'bush', 'challenging', 'lift', 'exploited', 'insights', 'ferris', 'warriors', 'macmurray', 'commander', 'submarine', 'empathy', 'bruckheimer', 'caper', 'wesley', 'gems', 'spine', 'astounding', 'officially', 'http', 'slapped', 'nope', 'firm', 'launch', 'visitor', 'edgar', 'freaks', 'steele', 'areas', 'marion', 'insignificant', 'complaints', 'prominent', 'cities', 'nervous', 'batwoman', 'doors', 'unpredictable', 'inevitable', 'smallest', 'countryside', 'gadgets', 'provoking', 'pays', 'finishes', 'fitz', 'paintings', 'chimney', 'acquaintance', 'undeniably', 'amazon', 'satisfied', 'cloud', 'weave', 'cameraman', 'giggle', 'intrusive', 'classify', 'goals', 'mtv', 'overlook', 'bubble', 'youngsters', 'department', 'insomnia', 'restricted', 'enhanced', 'virtual', 'questionable', 'doomed', 'nifty', \"mann's\", 'observations', 'advised', 'wider', 'garland', 'strands', 'genitals', 'linked', 'cruelty', 'shift', 'lundgren', 'reflected', 'seedy', 'warren', 'martino', 'spirited', 'suitably', 'gyllenhaal', 'natalie', 'wounds', 'characterisation', 'consequence', 'towers', 'june', 'subtleties', \"hartley's\", 'gretchen', 'bauer', 'photos', 'lavish', 'blockbusters', 'psychedelic', 'fright', 'devices', 'weaker', 'socialist', 'ideology', 'stricken', 'seats', 'pony', 'rod', 'suburban', 'consequently', 'superfluous', 'squandered', 'croft', 'ounce', 'derek', 'warns', 'keys', 'polished', 'retains', 'deleted', 'femme', 'id', 'idol', \"person's\", 'aristocrat', \"hollywood's\", 'minority', 'lap', 'armstrong', 'hailed', 'cheerful', 'stabs', \"3'\", 'unleashed', 'hardened', 'mutant', 'drastically', 'disappoints', 'unimaginative', 'horny', 'disposing', 'injury', 'ambition', 'predictability', 'cassandra', 'biography', 'abused', 'identified', 'colleague', 'fay', 'cowardly', 'inaccuracies', 'floats', 'ida', 'partly', 'racing', 'bud', 'praised', 'perceive', 'climb', 'neighbor', 'homicidal', 'underworld', 'assist', 'reciting', 'baddie', 'posted', 'distract', 'hypnotic', 'guru', 'capturing', 'sanity', 'revolver', 'rainy', 'punishment', 'sharif', 'editor', 'tacked', 'attenborough', 'sheets', 'earning', 'toni', 'roscoe', 'bravery', 'fontaine', 'judy', 'dukes', 'hogg', '2005', '1940s', 'developing', 'rookie', 'bowl', 'inheritance', 'jarmusch', 'vomit', 'hawn', 'interact', 'subtly', 'predecessor', '1989', 'sydney', 'resistance', 'swell', 'division', 'iturbi', 'mechanical', 'archive', 'garde', 'whacked', 'incarnate', 'tool', 'bashing', \"scorsese's\", 'mugging', 'rosanna', 'sticking', 'richards', \"liotta's\", 'corn', 'genova', 'prettier', 'ratso', 'dustin', 'fooled', 'gingerbread', 'norman', 'succeeded', 'marner', 'marina', 'intensely', 'exterior', 'terminator', 'ariel', 'enhance', 'conspiracies', 'sarcasm', 'touchy', 'innuendo', 'terri', 'revolving', 'breakdancing', 'nuances', 'detracts', 'concrete', 'fiercely', 'file', \"mom's\", 'cope', 'morons', 'murky', 'humiliation', 'unfulfilled', 'historic', 'celebrating', 'painters', 'passions', 'yada', 'confirms', 'denominator', 'themed', 'debatable', 'observe', '1974', 'dj', 'fifth', \"man'\", 'peoples', 'objects', 'boost', 'bridget', 'bitten', 'ck', 'freed', 'forcing', \"'a\", 'dramatically', 'churned', 'stalwart', 'billing', 'witnessed', 'perceived', 'doorstep', 'neglected', \"o'neill\", 'fed', 'panaghoy', 'interludes', 'shoulder', 'buffalo', 'intentional', \"zizek's\", 'fondly', 'buys', 'mayer', 'jenny', 'attendant', 'lauren', 'verhoeven', 'runner', 'sammo', 'atlantis', 'shady', 'macgregor', '360', 'kgb', 'sixty', 'pete', 'cacoyannis', 'sigh', 'unexplained', 'willed', 'igor', 'evokes', 'ranch', 'optimistic', 'comprehend', 'swim', 'mummy', 'poe', 'biting', 'interrogation', 'cahn', 'anthology', 'locate', 'net', 'incidentally', 'implies', 'whites', 'attributes', 'posing', 'drab', 'gerard', 'gershwin', 'prank', 'omnibus', 'natured', 'brettschneider', 'understands', 'melvyn', 'slimy', 'influences', 'lured', 'woefully', 'fires', 'moderately', 'somber', 'burnt', '23', 'fiancé', 'ziering', 'agamemnon', 'borrow', 'vintage', 'sending', 'tftc', 'pocket', 'flynn', 'hinted', 'esque', 'january', 'lin', 'shouts', 'reply', 'frenchman', 'wartime', 'liotta', 'bumbling', 'einstein', 'jafri', 'deliberate', 'francis', 'dani', 'conditions', 'filmography', 'aggie', 'justification', 'cues', 'unabashed', 'stairs', 'stylistic', 'conflicting', 'gorgeously', 'locale', 'limelight', 'admits', 'cbs', 'standout', 'parisian', 'recover', \"'forbidden\", 'braun', 'classmates', 'pans', 'cuz', 'marshall', 'macy', 'lobotomy', 'jude', 'norris', 'blowing', 'dos', 'sputnik', 'professionals', 'poldi', 'significantly', 'separation', 'convincingly', 'gibson', 'triple', 'resisted', 'relic', 'keitel', 'leigh', 'dreamy', 'transport', 'midst', 'chew', 'z', 'plight', 'ably', 'cultures', \"dad's\", 'inexperienced', 'lean', 'childress', 'min', 'lays', 'busting', 'feeble', 'pereira', 'flips', 'plotted', 'shoulders', \"child's\", 'waits', 'draft', 'vcr', 'devious', 'depravity', 'beatty', 'spaniard', 'requisite', 'carlton', 'browne', 'accepting', 'minister', 'toro', 'instances', 'polanski', 'conclude', \"its'\", 'photographs', 'mutual', 'viewpoint', 'choreographer', 'fills', 'medieval', 'ealing', 'reincarnation', 'hesitation', 'ephemeral', 'observed', 'illustrate', 'gladly', 'remarks', 'creek', 'distinctly', 'info', 'filipino', 'election', 'illustrates', 'fools', 'amok', 'ebert', 'endearing', 'greatness', 'preminger', 'retribution', 'housewife', 'sheen', 'marks', 'divine', 'imagining', 'famously', 'tacky', 'rehearsal', 'effortlessly', 'snowy', 'envy', 'intolerable', 'breathes', \"sant's\", 'choppy', 'competently', 'predicted', 'progression', 'trudy', 'serum', 'casino', 'alexandra', 'leah', 'deftly', 'respected', 'mold', 'chops', 'arab', 'misguided', 'baron', 'wraps', 'lars', 'vignettes', 'sport', 'nuance', 'covert', 'crosby', 'groups', 'distinctive', 'tasty', 'civilians', 'grating', 'bum', 'arrest', 'april', 'venus', 'rusty', 'peters', 'karas', 'connery', 'darling', 'avoiding', 'legitimate', 'robotic', 'milestone', 'den', 'refused', 'fictitious', 'knight', 'legacy', 'dubious', 'gays', 'shakti', 'malik', 'statements', 'gwynne', 'interiors', 'excruciatingly', 'gained', 'timid', 'relentlessly', 'benjamin', 'lohman', \"lynch's\", 'prophecy', 'splitting', 'obtain', 'climbing', 'aisle', 'landing', 'unavailable', 'surgery', 'backbone', 'survives', 'entries', 'lana', 'elephants', \"edmund's\", 'realises', 'lionel', \"lake'\", 'hoot', 'progress', 'quartier', 'taught', 'backdrops', 'marvel', 'missouri', 'bursting', 'sparks', 'fractured', 'hateful', 'calculated', 'intellectually', 'enchanted', 'basketball', 'marius', 'seduce', 'carpet', 'volume', 'consent', \"niro's\", 'hindu', 'incessant', 'dahl', 'breakdown', 'afloat', 'inaccurate', 'smug', 'prestigious', 'premier', 'flippen', 'prophecies', 'victory', 'crippled', \"robertson's\", 'demille', 'temple', 'satisfactory', 'fated', 'researcher', 'tournament', 'willis', 'reagan', 'hackenstein', 'meaty', 'blandings', \"actors'\", 'policemen', 'construct', 'trauma', 'education', 'projected', 'hung', 'aw', 'mobsters', 'youthful', 'sullavan', 'unlikeable', 'snowman', 'unremarkable', 'clunky', 'emran', 'denise', 'wine', 'unconscious', 'disinterested', 'tucker', 'shoes', 'symbols', 'dusty', 'thirties', 'twister', 'motions', \"rochester's\", \"fuqua's\", 'stardust', 'rewind', 'acceptance', \"bronte's\", 'astonished', 'debuted', 'alongside', 'absurdist', 'synchronized', 'newman', 'adapt', 'graves', 'pike', 'depending', 'deemed', 'seeming', 'heartwarming', 'insect', 'inclined', 'nicky', 'tuned', 'blamed', 'hilt', 'vamp', 'companionship', 'manipulate', 'awarded', 'altering', 'prejudices', 'mcdowell', 'fade', 'momo', 'dogma', 'subdued', '1968', 'caressing', 'hysteria', 'willy', 'overdue', 'endured', 'gunslinger', 'drought', 'milieu', 'cycle', 'chuckling', \"america's\", 'singers', 'reworking', 'metaphysical', 'diner', 'messy', 'compares', 'dont', 'maggots', 'compete', 'glance', 'kareena', 'homophobic', 'grateful', 'riff', 'wrinkle', 'rigid', 'straw', 'voluptuous', 'gil', 'kattan', 'nutshell', 'tiring', 'fantastical', 'uttered', 'someday', 'magazines', 'boast', 'output', 'farewell', 'mismatched', '29', 'heal', 'hires', 'translated', 'ramblings', 'grab', \"prince's\", 'rambo', 'playful', 'tomei', 'sibling', 'pizza', 'flee', 'jodie', 'preachy', 'ships', 'domino', 'dynamite', 'groundbreaking', 'americana', 'protective', 'peck', 'influential', 'dominique', 'occasions', 'bursts', 'vet', 'temper', 'mason', 'duncan', 'gainax', 'tolerance', 'omen', 'raj', 'ramu', 'deformed', 'skilled', 'disappointments', 'pencil', 'intellect', 'posh', 'carrier', \"tv's\", 'glenda', 'slaughter', 'forgetting', 'heaton', 'uncompromising', 'coincidence', 'sane', 'righteous', 'meredith', 'reid', 'assuming', 'reported', 'shrek', 'slater', 'shed', 'creepiness', 'extraordinarily', 'favours', 'marine', 'wrongly', 'marines', 'babe', 'pierre', '1977', 'ferrot', 'prop', 'shares', 'aftermath', 'grips', 'invading', 'gigolo', 'user', 'unconventional', 'leo', 'olivia', 'fields', 'needing', 'nutty', 'fantastically', 'introducing', 'streak', 'plentiful', 'informed', 'isolation', 'pour', 'bucket', 'reflecting', 'sensitivity', 'closure', 'hahaha', 'wits', 'yep', 'skit', 'anatomy', 'maid', 'lex', 'sneak', 'padding', 'unprofessional', 'download', 'mcintyre', 'faded', 'futile', 'confined', 'evaluate', 'employee', 'mining', 'eleven', 'overwrought', 'convention', 'worthless', 'outta', 'nerve', 'garfield', 'roeg', 'nathan', 'wan', 'buster', 'lasts', 'illustrated', 'unaware', 'vargas', 'tested', 'tsui', 'asset', 'librarian', 'menu', 'villa', 'trophy', 'primal', 'yorker', 'demand', \"husband's\", 'manson', 'sync', 'centuries', 'visible', 'edith', 'lighter', 'counting', 'mo', 'december', 'bodyguard', 'barbarians', 'strain', 'diabolical', 'explores', 'baltimore', 'pecker', 'corbin', 'rabbit', 'demonicus', 'disgrace', 'hamburg', 'recurring', 'wielding', 'harrold', 'les', 'indicate', 'python', 'openly', 'refreshingly', 'measure', 'greece', 'jaded', 'insists', 'cowboys', 'maltin', 'henchman', 'conflicted', 'collector', 'decadence', 'dock', 'cheer', 'fascinated', 'stepped', 'peaks', 'husbands', \"dawson's\", 'excellently', 'wastes', '1993', 'wickedly', \"30's\", 'teamed', 'ace', 'composition', 'suspected', 'limit', 'masterpieces', 'derivative', 'puzzle', 'zoo', 'weakest', '1981', 'pie', 'pub', 'hitch', 'interspersed', 'cow', 'survivors', 'rooting', 'vivian', 'affable', \"lampoon's\", 'sung', 'deck', 'identical', 'noel', 'vixen', 'frames', 'misogynistic', 'grandma', 'locals', 'replay', 'mechanics', 'grass', 'daisy', '1986', 'vh1', 'mridul', 'positively', 'sandhya', 'pearl', 'irani', 'cosmetic', 'forwards', 'familiarity', 'particles', 'proceed', 'lightweight', 'establish', 'fatale', 'privilege', 'nonsensical', 'denouement', 'vibrant', 'tornado', 'seagal', 'gate', 'mis', 'midway', 'combine', 'werewolves', 'coltrane', 'sleeps', 'pad', 'overs', 'tempted', 'compromise', 'geoffrey', 'irritated', 'awaiting', 'bots', 'gerald', 'drained', 'retread', 'neff', 'tendency', \"story'\", 'truncated', 'montage', 'lecherous', 'tip', 'embarrassingly', '1976', 'grandparents', 'flowing', 'inevitably', 'goldie', 'scripting', 'mandy', 'aiming', 'sidewalk', 'outset', 'complication', 'twins', 'defense', 'janitor', 'shaped', 'macabre', 'nomination', 'campaign', 'richardson', 'economic', \"1990's\", 'surrogate', 'masses', 'penny', 'rani', 'bones', 'knees', 'frozen', 'bombed', 'misfortune', 'sale', 'premises', 'bureau', 'interrupted', 'snap', 'peek', 'gangsta', 'quit', 'wander', 'fuel', 'petrol', 'graveyard', 'rabbits', 'shekhar', 'revival', 'syndicate', 'increase', 'patricia', 'opener', 'singular', 'verbally', 'loretta', 'contributed', \"brooks'\", 'porno', 'classified', 'coupled', 'tomb', 'lily', 'peak', 'wendy', 'distinction', 'alot', 'cannes', 'dashing', \"where's\", 'jerk', 'skinny', 'twenties', 'visited', 'brutality', 'btw', 'users', 'slips', 'shout', 'bars', 'clive', 'auto', 'uncontrollable', 'baseketball', 'myth', 'blessed', 'district', 'explode', 'sheep', \"chan's\", 'gilbert', 'billie', 'herr', 'noteworthy', 'hawaii', 'colleagues', 'tripe', 'espionage', 'awkwardly', \"kids'\", 'replied', 'sack', 'judges', 'originals', 'coarse', 'kathy', 'ronald', 'oops', 'companions', 'sweat', 'waking', 'entirety', 'sundance', 'convenient', 'radically', 'origin', 'tables', 'hampton', 'shockingly', 'grotesque', 'conned', 'strongest', 'amoral', 'helicopter', 'wounded', 'hart', 'explanations', 'israel', 'andrews', 'puns', 'afterward', 'hairy', 'rampant', 'pals', 'unit', 'shack', 'commanding', 'pose', 'shannon', 'accompanying', 'continent', 'guardian', 'homework', 'demise', 'digger', 'angers', 'nut', 'lulu', 'beings', 'teaching', 'hemo', 'radioactive', 'growth', 'reviewed', 'bros', 'kisses', 'exceeds', 'understated', 'stare', 'programming', 'antidote', 'twilight', 'ho', 'deepest', 'arrogance', 'reporters', 'dc', 'gifted', 'burnett', 'delirious', 'terrorists', 'btk', 'downward', 'frantically', 'resolve', 'poison', 'treating', 'uni', 'assassins', 'nominal', 'katana', 'hispanic', 'formulaic', 'boo', 'pine', 'attic', 'madonna', 'motivated', 'edits', 'repeating', 'wakes', \"simon's\", 'cothk', 'arc', 'vault', 'orleans', \"killer's\", 'wisely', 'marijuana', 'frontal', 'overboard', 'euro', 'pawn', \"miraglia's\", 'input', '1936', 'emphasis', 'produces', \"lumet's\", 'blames', 'ensure', 'politicians', 'furious', '22', 'shoved', 'presume', 'begging', 'shudder', 'jeep', 'goth', \"li's\", 'lester', 'fulfill', 'vince', 'outrageously', 'brush', 'communicated', 'expects', 'refusal', 'clinic', 'glover', 'ample', 'hanson', 'cigarettes', 'purple', 'servants', 'relevance', 'sacrificed', 'suzanne', 'numbing', \"c'mon\", 'messed', 'ignores', 'mafia', 'homo', 'chef', 'divorced', \"imdb's\", 'rooney', 'coverage', 'depict', 'varied', 'bully', 'unsolved', 'grip', 'amidst', 'kramer', 'leon', 'accurately', 'cratchit', 'bloodshed', 'sincerity', 'twisty', 'signal', 'hybrid', 'rounds', 'versa', '1949', 'rousing', 'approached', 'filmic', 'disgruntled', 'styles', '1994', 'incompetence', 'dedication', 'absurdity', 'provocative', \"scott's\", 'beatings', 'garnered', 'exhausted', 'solvang', 'spice', 'boasts', 'armed', 'lifts', 'profanity', 'appreciation', 'simplicity', 'restless', 'brooke', 'faked', 'retirement', 'craven', 'coal', 'beside', 'condescending', 'destiny', 'mines', 'rockets', 'terrorize', 'inform', 'kirby', \"'what\", 'fingernails', 'assure', 'liberties', 'beckinsale', 'absorbing', 'sweets', 'farrah', 'caroline', 'widower', 'occurring', 'quasi', 'grisly', 'cheaper', 'novelist', 'roof', \"charlie's\", 'creations', 'ongoing', 'probation'])"
      ]
     },
     "execution_count": 122,
     "metadata": {},
     "output_type": "execute_result"
    }
   ],
   "source": [
    "n.keys()"
   ]
  },
  {
   "cell_type": "markdown",
   "metadata": {},
   "source": [
    "There is an important difference between the number of words in the train sentences and in the Word2Vec vocabulary, even though it has been trained on the train sentence set. The reasons comes from the second important hyperparameter of Word2Vec:  `min_count`. \n",
    "\n",
    "`min_count` is a integer that tells you how many occurrences a given word should have to be learned in the embedding space. For instance, let's say that the word \"movie\" appears 1000 times in the corpus and \"simba\" only 2 times. If `min_count=3`, the word \"simba\" will be skipped during the training.\n",
    "\n",
    "The intention is to learn a representation of words that are sufficiently present in the corpus to have a robust embedded representation."
   ]
  },
  {
   "cell_type": "markdown",
   "metadata": {},
   "source": [
    "❓ **Question** ❓ Learn a new `word2vec_3` model with a `min_count` higher than 5 (which is the default value) and a `word2vec_4` with a `min_count` smaller than 5, and then, compare the size of the vocabulary for all the different word2vecs that you have trained (you can choose any `vector_size` you want)."
   ]
  },
  {
   "cell_type": "code",
   "execution_count": 55,
   "metadata": {
    "tags": [
     "challengify"
    ]
   },
   "outputs": [
    {
     "name": "stdout",
     "output_type": "stream",
     "text": [
      "8006 8006 4503 12116\n"
     ]
    }
   ],
   "source": [
    "# YOUR CODE HERE\n",
    "word2vec_3 = Word2Vec(sentences = X_train, min_count = 10)\n",
    "word2vec_4 = Word2Vec(sentences = X_train, min_count = 3)\n",
    "print (len(wv), len(wv2), len(word2vec_3.wv), len(word2vec_4.wv))"
   ]
  },
  {
   "cell_type": "markdown",
   "metadata": {},
   "source": [
    "Remember that Word2Vec has an internal neural network that is optimized based on some predictions. These predictions actually correspond to predicting a word based on surrounding words. The surroundings words are in a `window` which corresponds to the number of words taken into account. And you can train the Word2Vec with different `window` sizes."
   ]
  },
  {
   "cell_type": "markdown",
   "metadata": {},
   "source": [
    "❓ **Question** ❓ Train a new `word2vec_5` model with a `window` different than previously (default is 5)."
   ]
  },
  {
   "cell_type": "code",
   "execution_count": 68,
   "metadata": {
    "tags": [
     "challengify"
    ]
   },
   "outputs": [],
   "source": [
    "# YOUR CODE HERE\n",
    "word2vec_5 = Word2Vec(sentences=X_train, window = 2)"
   ]
  },
  {
   "cell_type": "markdown",
   "metadata": {},
   "source": [
    "The arguments you have seen (`vector_size`, `min_count` and `window`) are usually the ones that you should start playing with to get a better performance for your model.\n",
    "\n",
    "But you can also look at other arguments in the [**📚 Documentation - gensim.models.word2vec.Text8Corpus**](https://radimrehurek.com/gensim/models/word2vec.html#gensim.models.word2vec.Text8Corpus)"
   ]
  },
  {
   "cell_type": "markdown",
   "metadata": {},
   "source": [
    "# Convert our train and test set to RNN-ready datasets"
   ]
  },
  {
   "cell_type": "markdown",
   "metadata": {},
   "source": [
    "Remember that `Word2Vec` is the first step to the overall process of feeding such a representation into a RNN, as shown here:\n",
    "\n",
    "<img src=\"word2vec_representation.png\" width=\"400px\" />\n",
    "\n",
    "\n",
    "\n",
    "Now, let's work on Step 2 by converting the training and test data into their vector representation to be ready to be fed in RNNs.\n",
    "\n",
    "❓ **Question** ❓ Now, write a function that, given a sentence, returns a matrix that corresponds to the embedding of the full sentence, which means that you have to embed each word one after the other and concatenate the result to output a 2D matrix (make sure that your output is a NumPy array)\n",
    "\n",
    "❗ **Remark** ❗ You will probably notice that some words you are trying to convert throw errors as they are said not to belong to the dictionary:\n",
    "\n",
    "- For the <font color=orange>test</font> set, this is understandable: <font color=orange>some words were not</font> in the <font color=blue>train</font> set and thus, their <font color=orange>embedded representation is unknown</font>\n",
    "- for the <font color=blue>train set</font>, due to `min_count` hyperparameter, not all the words have a vector representation.\n",
    "\n",
    "In any case, just skip the missing words here."
   ]
  },
  {
   "cell_type": "code",
   "execution_count": 129,
   "metadata": {},
   "outputs": [],
   "source": [
    "import numpy as np\n",
    "\n",
    "example = ['this', 'movie', 'is', 'the', 'worst', 'action', 'movie', 'ever']\n",
    "example_missing_words = ['this', 'movie', 'is', 'laaaaaaaaaame']\n",
    "\n",
    "def embed_sentence(word2vec, sentence):\n",
    "    model = word2vec(sentences=X_train)\n",
    "    wv = model.wv\n",
    "    dict_wv = wv.key_to_index\n",
    "    matrix = np.array([wv[word] for word in sentence if word in dict_wv.keys()])\n",
    "    return matrix"
   ]
  },
  {
   "cell_type": "code",
   "execution_count": 130,
   "metadata": {},
   "outputs": [],
   "source": [
    "    \n",
    "### Checks\n",
    "embedded_sentence = embed_sentence(Word2Vec, example)\n",
    "assert(type(embedded_sentence) == np.ndarray)\n",
    "assert(embedded_sentence.shape == (8, 100))"
   ]
  },
  {
   "cell_type": "code",
   "execution_count": 135,
   "metadata": {},
   "outputs": [],
   "source": [
    "embedded_sentence_missing_words = embed_sentence(Word2Vec, example_missing_words)  \n",
    "assert(type(embedded_sentence_missing_words) == np.ndarray)\n",
    "assert(embedded_sentence_missing_words.shape == (3, 100))"
   ]
  },
  {
   "cell_type": "code",
   "execution_count": null,
   "metadata": {},
   "outputs": [],
   "source": []
  },
  {
   "cell_type": "markdown",
   "metadata": {},
   "source": [
    "❓ **Question** ❓ Write a function that, given a list of sentences (each sentence being a list of words/strings), returns a list of embedded sentences (each sentence is a matrix). Apply this function to the train and test sentences\n",
    "\n",
    "💡 _Hint_: Use the previous function `embed_sentence`"
   ]
  },
  {
   "cell_type": "code",
   "execution_count": null,
   "metadata": {},
   "outputs": [],
   "source": [
    "def embedding(word2vec, sentences):\n",
    "    ebd = [embed_sentence(Word2Vec, s) for s in sentences]\n",
    "    return np.stack(ebd, axis=0)\n",
    "    \n",
    "    \n",
    "X_train = embedding(word2vec, X_train)\n",
    "X_test = embedding(word2vec, X_test)"
   ]
  },
  {
   "cell_type": "markdown",
   "metadata": {},
   "source": [
    "❓ **Question** ❓ In order to have ready-to-use data, do not forget to pad your sequences so you have tensors which can be divided into batches (of `batch_size`) during the optimization. Store the padded values in `X_train_pad` and `X_test_pad`. Do not forget the important arguments of the padding ;)"
   ]
  },
  {
   "cell_type": "code",
   "execution_count": null,
   "metadata": {},
   "outputs": [],
   "source": [
    "### YOUR CODE HERE\n",
    "from tensorflow.keras.preprocessing.sequence import pad_sequences\n",
    "X_train_pad = pad_sequences(X_train, dtype='float32', padding='post', value=0)\n",
    "X_test_pad = pad_sequences(X_test, dtype='float32', padding='post', value=0)"
   ]
  },
  {
   "cell_type": "code",
   "execution_count": null,
   "metadata": {},
   "outputs": [],
   "source": [
    "assert(len(X_train_pad.shape) == 3)\n",
    "assert(len(X_test_pad.shape) == 3)\n",
    "assert(X_train_pad.shape[2] == 100)\n",
    "assert(X_test_pad.shape[2] == 100)"
   ]
  },
  {
   "cell_type": "markdown",
   "metadata": {},
   "source": [
    "\n",
    "\n",
    "🏁 Congratulations, you are now able to use `Word2Vec` to embed your words :)\n",
    "\n",
    "💾 Don't forget to git add/commit/push your notebook...\n",
    "\n",
    "🚀 ... and move on to the next challenge!\n"
   ]
  }
 ],
 "metadata": {
  "kernelspec": {
   "display_name": "Python 3 (ipykernel)",
   "language": "python",
   "name": "python3"
  },
  "language_info": {
   "codemirror_mode": {
    "name": "ipython",
    "version": 3
   },
   "file_extension": ".py",
   "mimetype": "text/x-python",
   "name": "python",
   "nbconvert_exporter": "python",
   "pygments_lexer": "ipython3",
   "version": "3.10.6"
  },
  "toc": {
   "base_numbering": 1,
   "nav_menu": {},
   "number_sections": true,
   "sideBar": true,
   "skip_h1_title": false,
   "title_cell": "Table of Contents",
   "title_sidebar": "Contents",
   "toc_cell": false,
   "toc_position": {
    "height": "calc(100% - 180px)",
    "left": "10px",
    "top": "150px",
    "width": "165px"
   },
   "toc_section_display": true,
   "toc_window_display": true
  },
  "varInspector": {
   "cols": {
    "lenName": 16,
    "lenType": 16,
    "lenVar": 40
   },
   "kernels_config": {
    "python": {
     "delete_cmd_postfix": "",
     "delete_cmd_prefix": "del ",
     "library": "var_list.py",
     "varRefreshCmd": "print(var_dic_list())"
    },
    "r": {
     "delete_cmd_postfix": ") ",
     "delete_cmd_prefix": "rm(",
     "library": "var_list.r",
     "varRefreshCmd": "cat(var_dic_list()) "
    }
   },
   "types_to_exclude": [
    "module",
    "function",
    "builtin_function_or_method",
    "instance",
    "_Feature"
   ],
   "window_display": false
  }
 },
 "nbformat": 4,
 "nbformat_minor": 4
}
